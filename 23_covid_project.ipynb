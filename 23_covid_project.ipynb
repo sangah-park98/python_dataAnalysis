{
 "cells": [
  {
   "cell_type": "code",
   "execution_count": 1,
   "id": "34dbbe2a",
   "metadata": {},
   "outputs": [],
   "source": [
    "import warnings                                    # 경고 메시지를 출력하지 않게 하기 위해 import한다.\n",
    "warnings.filterwarnings(action='ignore')           # 경고 메시지를 출력하지 않게 한다.(default는 출력!)\n",
    "%config Completer.use_jedi = False                  # 자동 완성 기능이 실행되지 않을 시 가능하게 한다.\n",
    "import numpy as np                                 # 수치 계산, 배열 처리를 하기 위해 import한다.\n",
    "import pandas as pd                                # 데이터 분석을 위한 전처리를 위해 import한다.\n",
    "import matplotlib.pyplot as plt                    # 시각화를 하기 위해 import한다.\n",
    "import matplotlib as mpl                           # matplotlib에서 음수 데이터의 '-' 부호가 깨지는 현상을 방지하기 위해 import한다.\n",
    "mpl.rcParams['axes.unicode_minus'] = False         # matplotlib에서 음수 데이터의 '-' 부호가 깨지는 현상을 방지한다.\n",
    "plt.rcParams['font.family'] = 'NanumGothicCoding'  # matplotlib에서 사용할 한글 글꼴을 지정한다.\n",
    "plt.rcParams['font.size'] = 15                     # matplotlib에서 사용할 글꼴의 크기를 지정한다.\n",
    "import seaborn as sns                              # matplotlib을 기반으로 만든 시각화 도구를 import한다.\n",
    "from plotnine import *                             # R의 ggplot2 패키지를 사용하는 것처럼 사용하는 시각화 도구를 import한다.\n",
    "import missingno as msno                           # 누락값의 분포를 그래프 형태로 보기 위해 import한다.\n",
    "import folium        "
   ]
  },
  {
   "cell_type": "code",
   "execution_count": 2,
   "id": "38b72e0a",
   "metadata": {
    "scrolled": true
   },
   "outputs": [
    {
     "data": {
      "text/html": [
       "<div>\n",
       "<style scoped>\n",
       "    .dataframe tbody tr th:only-of-type {\n",
       "        vertical-align: middle;\n",
       "    }\n",
       "\n",
       "    .dataframe tbody tr th {\n",
       "        vertical-align: top;\n",
       "    }\n",
       "\n",
       "    .dataframe thead th {\n",
       "        text-align: right;\n",
       "    }\n",
       "</style>\n",
       "<table border=\"1\" class=\"dataframe\">\n",
       "  <thead>\n",
       "    <tr style=\"text-align: right;\">\n",
       "      <th></th>\n",
       "      <th>자치구기준일</th>\n",
       "      <th>종로구 전체</th>\n",
       "      <th>종로구 추가</th>\n",
       "      <th>중구 전체</th>\n",
       "      <th>중구 추가</th>\n",
       "      <th>용산구 전체</th>\n",
       "      <th>용산구 추가</th>\n",
       "      <th>성동구 전체</th>\n",
       "      <th>성동구 추가</th>\n",
       "      <th>광진구 전체</th>\n",
       "      <th>...</th>\n",
       "      <th>서초구 전체</th>\n",
       "      <th>서초구 추가</th>\n",
       "      <th>강남구 전체</th>\n",
       "      <th>강남구 추가</th>\n",
       "      <th>송파구 전체</th>\n",
       "      <th>송파구 추가</th>\n",
       "      <th>강동구 전체</th>\n",
       "      <th>강동구 추가</th>\n",
       "      <th>기타 전체</th>\n",
       "      <th>기타 추가</th>\n",
       "    </tr>\n",
       "  </thead>\n",
       "  <tbody>\n",
       "    <tr>\n",
       "      <th>0</th>\n",
       "      <td>2023.05.31.00</td>\n",
       "      <td>83071</td>\n",
       "      <td>86</td>\n",
       "      <td>74856</td>\n",
       "      <td>79</td>\n",
       "      <td>127651</td>\n",
       "      <td>119</td>\n",
       "      <td>176336</td>\n",
       "      <td>170</td>\n",
       "      <td>213585</td>\n",
       "      <td>...</td>\n",
       "      <td>243336</td>\n",
       "      <td>202</td>\n",
       "      <td>315903</td>\n",
       "      <td>264</td>\n",
       "      <td>405933</td>\n",
       "      <td>412</td>\n",
       "      <td>283400</td>\n",
       "      <td>264</td>\n",
       "      <td>406767</td>\n",
       "      <td>465</td>\n",
       "    </tr>\n",
       "    <tr>\n",
       "      <th>1</th>\n",
       "      <td>2023.05.30.00</td>\n",
       "      <td>82985</td>\n",
       "      <td>53</td>\n",
       "      <td>74777</td>\n",
       "      <td>39</td>\n",
       "      <td>127532</td>\n",
       "      <td>53</td>\n",
       "      <td>176166</td>\n",
       "      <td>96</td>\n",
       "      <td>213395</td>\n",
       "      <td>...</td>\n",
       "      <td>243134</td>\n",
       "      <td>114</td>\n",
       "      <td>315639</td>\n",
       "      <td>172</td>\n",
       "      <td>405521</td>\n",
       "      <td>251</td>\n",
       "      <td>283136</td>\n",
       "      <td>155</td>\n",
       "      <td>406302</td>\n",
       "      <td>150</td>\n",
       "    </tr>\n",
       "    <tr>\n",
       "      <th>2</th>\n",
       "      <td>2023.05.29.00</td>\n",
       "      <td>82932</td>\n",
       "      <td>10</td>\n",
       "      <td>74738</td>\n",
       "      <td>11</td>\n",
       "      <td>127479</td>\n",
       "      <td>20</td>\n",
       "      <td>176070</td>\n",
       "      <td>32</td>\n",
       "      <td>213299</td>\n",
       "      <td>...</td>\n",
       "      <td>243020</td>\n",
       "      <td>83</td>\n",
       "      <td>315467</td>\n",
       "      <td>86</td>\n",
       "      <td>405270</td>\n",
       "      <td>71</td>\n",
       "      <td>282981</td>\n",
       "      <td>61</td>\n",
       "      <td>406152</td>\n",
       "      <td>93</td>\n",
       "    </tr>\n",
       "    <tr>\n",
       "      <th>3</th>\n",
       "      <td>2023.05.28.00</td>\n",
       "      <td>82922</td>\n",
       "      <td>29</td>\n",
       "      <td>74727</td>\n",
       "      <td>42</td>\n",
       "      <td>127459</td>\n",
       "      <td>47</td>\n",
       "      <td>176038</td>\n",
       "      <td>74</td>\n",
       "      <td>213269</td>\n",
       "      <td>...</td>\n",
       "      <td>242937</td>\n",
       "      <td>76</td>\n",
       "      <td>315381</td>\n",
       "      <td>155</td>\n",
       "      <td>405199</td>\n",
       "      <td>146</td>\n",
       "      <td>282920</td>\n",
       "      <td>99</td>\n",
       "      <td>406059</td>\n",
       "      <td>186</td>\n",
       "    </tr>\n",
       "    <tr>\n",
       "      <th>4</th>\n",
       "      <td>2023.05.27.00</td>\n",
       "      <td>82893</td>\n",
       "      <td>54</td>\n",
       "      <td>74685</td>\n",
       "      <td>59</td>\n",
       "      <td>127412</td>\n",
       "      <td>83</td>\n",
       "      <td>175964</td>\n",
       "      <td>127</td>\n",
       "      <td>213212</td>\n",
       "      <td>...</td>\n",
       "      <td>242861</td>\n",
       "      <td>146</td>\n",
       "      <td>315226</td>\n",
       "      <td>199</td>\n",
       "      <td>405053</td>\n",
       "      <td>316</td>\n",
       "      <td>282821</td>\n",
       "      <td>194</td>\n",
       "      <td>405873</td>\n",
       "      <td>365</td>\n",
       "    </tr>\n",
       "    <tr>\n",
       "      <th>...</th>\n",
       "      <td>...</td>\n",
       "      <td>...</td>\n",
       "      <td>...</td>\n",
       "      <td>...</td>\n",
       "      <td>...</td>\n",
       "      <td>...</td>\n",
       "      <td>...</td>\n",
       "      <td>...</td>\n",
       "      <td>...</td>\n",
       "      <td>...</td>\n",
       "      <td>...</td>\n",
       "      <td>...</td>\n",
       "      <td>...</td>\n",
       "      <td>...</td>\n",
       "      <td>...</td>\n",
       "      <td>...</td>\n",
       "      <td>...</td>\n",
       "      <td>...</td>\n",
       "      <td>...</td>\n",
       "      <td>...</td>\n",
       "      <td>...</td>\n",
       "    </tr>\n",
       "    <tr>\n",
       "      <th>1206</th>\n",
       "      <td>2020.02.09.10</td>\n",
       "      <td>0</td>\n",
       "      <td>0</td>\n",
       "      <td>0</td>\n",
       "      <td>0</td>\n",
       "      <td>0</td>\n",
       "      <td>0</td>\n",
       "      <td>0</td>\n",
       "      <td>0</td>\n",
       "      <td>0</td>\n",
       "      <td>...</td>\n",
       "      <td>0</td>\n",
       "      <td>0</td>\n",
       "      <td>0</td>\n",
       "      <td>0</td>\n",
       "      <td>0</td>\n",
       "      <td>0</td>\n",
       "      <td>0</td>\n",
       "      <td>0</td>\n",
       "      <td>0</td>\n",
       "      <td>0</td>\n",
       "    </tr>\n",
       "    <tr>\n",
       "      <th>1207</th>\n",
       "      <td>2020.02.08.10</td>\n",
       "      <td>0</td>\n",
       "      <td>0</td>\n",
       "      <td>0</td>\n",
       "      <td>0</td>\n",
       "      <td>0</td>\n",
       "      <td>0</td>\n",
       "      <td>0</td>\n",
       "      <td>0</td>\n",
       "      <td>0</td>\n",
       "      <td>...</td>\n",
       "      <td>0</td>\n",
       "      <td>0</td>\n",
       "      <td>0</td>\n",
       "      <td>0</td>\n",
       "      <td>0</td>\n",
       "      <td>0</td>\n",
       "      <td>0</td>\n",
       "      <td>0</td>\n",
       "      <td>0</td>\n",
       "      <td>0</td>\n",
       "    </tr>\n",
       "    <tr>\n",
       "      <th>1208</th>\n",
       "      <td>2020.02.07.10</td>\n",
       "      <td>0</td>\n",
       "      <td>0</td>\n",
       "      <td>0</td>\n",
       "      <td>0</td>\n",
       "      <td>0</td>\n",
       "      <td>0</td>\n",
       "      <td>0</td>\n",
       "      <td>0</td>\n",
       "      <td>0</td>\n",
       "      <td>...</td>\n",
       "      <td>0</td>\n",
       "      <td>0</td>\n",
       "      <td>0</td>\n",
       "      <td>0</td>\n",
       "      <td>0</td>\n",
       "      <td>0</td>\n",
       "      <td>0</td>\n",
       "      <td>0</td>\n",
       "      <td>0</td>\n",
       "      <td>0</td>\n",
       "    </tr>\n",
       "    <tr>\n",
       "      <th>1209</th>\n",
       "      <td>2020.02.06.10</td>\n",
       "      <td>3</td>\n",
       "      <td>0</td>\n",
       "      <td>0</td>\n",
       "      <td>0</td>\n",
       "      <td>0</td>\n",
       "      <td>0</td>\n",
       "      <td>0</td>\n",
       "      <td>0</td>\n",
       "      <td>0</td>\n",
       "      <td>...</td>\n",
       "      <td>0</td>\n",
       "      <td>0</td>\n",
       "      <td>0</td>\n",
       "      <td>0</td>\n",
       "      <td>1</td>\n",
       "      <td>1</td>\n",
       "      <td>0</td>\n",
       "      <td>0</td>\n",
       "      <td>1</td>\n",
       "      <td>0</td>\n",
       "    </tr>\n",
       "    <tr>\n",
       "      <th>1210</th>\n",
       "      <td>2020.02.05.10</td>\n",
       "      <td>3</td>\n",
       "      <td>0</td>\n",
       "      <td>0</td>\n",
       "      <td>0</td>\n",
       "      <td>0</td>\n",
       "      <td>0</td>\n",
       "      <td>0</td>\n",
       "      <td>0</td>\n",
       "      <td>0</td>\n",
       "      <td>...</td>\n",
       "      <td>0</td>\n",
       "      <td>0</td>\n",
       "      <td>0</td>\n",
       "      <td>0</td>\n",
       "      <td>0</td>\n",
       "      <td>0</td>\n",
       "      <td>0</td>\n",
       "      <td>0</td>\n",
       "      <td>1</td>\n",
       "      <td>0</td>\n",
       "    </tr>\n",
       "  </tbody>\n",
       "</table>\n",
       "<p>1211 rows × 53 columns</p>\n",
       "</div>"
      ],
      "text/plain": [
       "             자치구기준일  종로구 전체  종로구 추가  중구 전체  중구 추가  용산구 전체  용산구 추가  성동구 전체  \\\n",
       "0     2023.05.31.00   83071      86  74856     79  127651     119  176336   \n",
       "1     2023.05.30.00   82985      53  74777     39  127532      53  176166   \n",
       "2     2023.05.29.00   82932      10  74738     11  127479      20  176070   \n",
       "3     2023.05.28.00   82922      29  74727     42  127459      47  176038   \n",
       "4     2023.05.27.00   82893      54  74685     59  127412      83  175964   \n",
       "...             ...     ...     ...    ...    ...     ...     ...     ...   \n",
       "1206  2020.02.09.10       0       0      0      0       0       0       0   \n",
       "1207  2020.02.08.10       0       0      0      0       0       0       0   \n",
       "1208  2020.02.07.10       0       0      0      0       0       0       0   \n",
       "1209  2020.02.06.10       3       0      0      0       0       0       0   \n",
       "1210  2020.02.05.10       3       0      0      0       0       0       0   \n",
       "\n",
       "      성동구 추가  광진구 전체  ...  서초구 전체  서초구 추가  강남구 전체  강남구 추가  송파구 전체  송파구 추가  \\\n",
       "0        170  213585  ...  243336     202  315903     264  405933     412   \n",
       "1         96  213395  ...  243134     114  315639     172  405521     251   \n",
       "2         32  213299  ...  243020      83  315467      86  405270      71   \n",
       "3         74  213269  ...  242937      76  315381     155  405199     146   \n",
       "4        127  213212  ...  242861     146  315226     199  405053     316   \n",
       "...      ...     ...  ...     ...     ...     ...     ...     ...     ...   \n",
       "1206       0       0  ...       0       0       0       0       0       0   \n",
       "1207       0       0  ...       0       0       0       0       0       0   \n",
       "1208       0       0  ...       0       0       0       0       0       0   \n",
       "1209       0       0  ...       0       0       0       0       1       1   \n",
       "1210       0       0  ...       0       0       0       0       0       0   \n",
       "\n",
       "      강동구 전체  강동구 추가   기타 전체  기타 추가  \n",
       "0     283400     264  406767    465  \n",
       "1     283136     155  406302    150  \n",
       "2     282981      61  406152     93  \n",
       "3     282920      99  406059    186  \n",
       "4     282821     194  405873    365  \n",
       "...      ...     ...     ...    ...  \n",
       "1206       0       0       0      0  \n",
       "1207       0       0       0      0  \n",
       "1208       0       0       0      0  \n",
       "1209       0       0       1      0  \n",
       "1210       0       0       1      0  \n",
       "\n",
       "[1211 rows x 53 columns]"
      ]
     },
     "execution_count": 2,
     "metadata": {},
     "output_type": "execute_result"
    }
   ],
   "source": [
    "df = pd.read_csv('./data/covid.csv', encoding='cp949')\n",
    "df"
   ]
  },
  {
   "cell_type": "code",
   "execution_count": 3,
   "id": "1858c3e1",
   "metadata": {},
   "outputs": [
    {
     "data": {
      "text/html": [
       "<div>\n",
       "<style scoped>\n",
       "    .dataframe tbody tr th:only-of-type {\n",
       "        vertical-align: middle;\n",
       "    }\n",
       "\n",
       "    .dataframe tbody tr th {\n",
       "        vertical-align: top;\n",
       "    }\n",
       "\n",
       "    .dataframe thead th {\n",
       "        text-align: right;\n",
       "    }\n",
       "</style>\n",
       "<table border=\"1\" class=\"dataframe\">\n",
       "  <thead>\n",
       "    <tr style=\"text-align: right;\">\n",
       "      <th>연번</th>\n",
       "      <th>자치구기준일</th>\n",
       "      <th>종로구 전체</th>\n",
       "      <th>종로구 추가</th>\n",
       "      <th>중구 전체</th>\n",
       "      <th>중구 추가</th>\n",
       "      <th>용산구 전체</th>\n",
       "      <th>용산구 추가</th>\n",
       "      <th>성동구 전체</th>\n",
       "      <th>성동구 추가</th>\n",
       "      <th>광진구 전체</th>\n",
       "      <th>...</th>\n",
       "      <th>서초구 전체</th>\n",
       "      <th>서초구 추가</th>\n",
       "      <th>강남구 전체</th>\n",
       "      <th>강남구 추가</th>\n",
       "      <th>송파구 전체</th>\n",
       "      <th>송파구 추가</th>\n",
       "      <th>강동구 전체</th>\n",
       "      <th>강동구 추가</th>\n",
       "      <th>기타 전체</th>\n",
       "      <th>기타 추가</th>\n",
       "    </tr>\n",
       "  </thead>\n",
       "  <tbody>\n",
       "    <tr>\n",
       "      <th>0</th>\n",
       "      <td>2023.05.31.00</td>\n",
       "      <td>83071</td>\n",
       "      <td>86</td>\n",
       "      <td>74856</td>\n",
       "      <td>79</td>\n",
       "      <td>127651</td>\n",
       "      <td>119</td>\n",
       "      <td>176336</td>\n",
       "      <td>170</td>\n",
       "      <td>213585</td>\n",
       "      <td>...</td>\n",
       "      <td>243336</td>\n",
       "      <td>202</td>\n",
       "      <td>315903</td>\n",
       "      <td>264</td>\n",
       "      <td>405933</td>\n",
       "      <td>412</td>\n",
       "      <td>283400</td>\n",
       "      <td>264</td>\n",
       "      <td>406767</td>\n",
       "      <td>465</td>\n",
       "    </tr>\n",
       "    <tr>\n",
       "      <th>1</th>\n",
       "      <td>2023.05.30.00</td>\n",
       "      <td>82985</td>\n",
       "      <td>53</td>\n",
       "      <td>74777</td>\n",
       "      <td>39</td>\n",
       "      <td>127532</td>\n",
       "      <td>53</td>\n",
       "      <td>176166</td>\n",
       "      <td>96</td>\n",
       "      <td>213395</td>\n",
       "      <td>...</td>\n",
       "      <td>243134</td>\n",
       "      <td>114</td>\n",
       "      <td>315639</td>\n",
       "      <td>172</td>\n",
       "      <td>405521</td>\n",
       "      <td>251</td>\n",
       "      <td>283136</td>\n",
       "      <td>155</td>\n",
       "      <td>406302</td>\n",
       "      <td>150</td>\n",
       "    </tr>\n",
       "    <tr>\n",
       "      <th>2</th>\n",
       "      <td>2023.05.29.00</td>\n",
       "      <td>82932</td>\n",
       "      <td>10</td>\n",
       "      <td>74738</td>\n",
       "      <td>11</td>\n",
       "      <td>127479</td>\n",
       "      <td>20</td>\n",
       "      <td>176070</td>\n",
       "      <td>32</td>\n",
       "      <td>213299</td>\n",
       "      <td>...</td>\n",
       "      <td>243020</td>\n",
       "      <td>83</td>\n",
       "      <td>315467</td>\n",
       "      <td>86</td>\n",
       "      <td>405270</td>\n",
       "      <td>71</td>\n",
       "      <td>282981</td>\n",
       "      <td>61</td>\n",
       "      <td>406152</td>\n",
       "      <td>93</td>\n",
       "    </tr>\n",
       "    <tr>\n",
       "      <th>3</th>\n",
       "      <td>2023.05.28.00</td>\n",
       "      <td>82922</td>\n",
       "      <td>29</td>\n",
       "      <td>74727</td>\n",
       "      <td>42</td>\n",
       "      <td>127459</td>\n",
       "      <td>47</td>\n",
       "      <td>176038</td>\n",
       "      <td>74</td>\n",
       "      <td>213269</td>\n",
       "      <td>...</td>\n",
       "      <td>242937</td>\n",
       "      <td>76</td>\n",
       "      <td>315381</td>\n",
       "      <td>155</td>\n",
       "      <td>405199</td>\n",
       "      <td>146</td>\n",
       "      <td>282920</td>\n",
       "      <td>99</td>\n",
       "      <td>406059</td>\n",
       "      <td>186</td>\n",
       "    </tr>\n",
       "    <tr>\n",
       "      <th>4</th>\n",
       "      <td>2023.05.27.00</td>\n",
       "      <td>82893</td>\n",
       "      <td>54</td>\n",
       "      <td>74685</td>\n",
       "      <td>59</td>\n",
       "      <td>127412</td>\n",
       "      <td>83</td>\n",
       "      <td>175964</td>\n",
       "      <td>127</td>\n",
       "      <td>213212</td>\n",
       "      <td>...</td>\n",
       "      <td>242861</td>\n",
       "      <td>146</td>\n",
       "      <td>315226</td>\n",
       "      <td>199</td>\n",
       "      <td>405053</td>\n",
       "      <td>316</td>\n",
       "      <td>282821</td>\n",
       "      <td>194</td>\n",
       "      <td>405873</td>\n",
       "      <td>365</td>\n",
       "    </tr>\n",
       "    <tr>\n",
       "      <th>...</th>\n",
       "      <td>...</td>\n",
       "      <td>...</td>\n",
       "      <td>...</td>\n",
       "      <td>...</td>\n",
       "      <td>...</td>\n",
       "      <td>...</td>\n",
       "      <td>...</td>\n",
       "      <td>...</td>\n",
       "      <td>...</td>\n",
       "      <td>...</td>\n",
       "      <td>...</td>\n",
       "      <td>...</td>\n",
       "      <td>...</td>\n",
       "      <td>...</td>\n",
       "      <td>...</td>\n",
       "      <td>...</td>\n",
       "      <td>...</td>\n",
       "      <td>...</td>\n",
       "      <td>...</td>\n",
       "      <td>...</td>\n",
       "      <td>...</td>\n",
       "    </tr>\n",
       "    <tr>\n",
       "      <th>1206</th>\n",
       "      <td>2020.02.09.10</td>\n",
       "      <td>0</td>\n",
       "      <td>0</td>\n",
       "      <td>0</td>\n",
       "      <td>0</td>\n",
       "      <td>0</td>\n",
       "      <td>0</td>\n",
       "      <td>0</td>\n",
       "      <td>0</td>\n",
       "      <td>0</td>\n",
       "      <td>...</td>\n",
       "      <td>0</td>\n",
       "      <td>0</td>\n",
       "      <td>0</td>\n",
       "      <td>0</td>\n",
       "      <td>0</td>\n",
       "      <td>0</td>\n",
       "      <td>0</td>\n",
       "      <td>0</td>\n",
       "      <td>0</td>\n",
       "      <td>0</td>\n",
       "    </tr>\n",
       "    <tr>\n",
       "      <th>1207</th>\n",
       "      <td>2020.02.08.10</td>\n",
       "      <td>0</td>\n",
       "      <td>0</td>\n",
       "      <td>0</td>\n",
       "      <td>0</td>\n",
       "      <td>0</td>\n",
       "      <td>0</td>\n",
       "      <td>0</td>\n",
       "      <td>0</td>\n",
       "      <td>0</td>\n",
       "      <td>...</td>\n",
       "      <td>0</td>\n",
       "      <td>0</td>\n",
       "      <td>0</td>\n",
       "      <td>0</td>\n",
       "      <td>0</td>\n",
       "      <td>0</td>\n",
       "      <td>0</td>\n",
       "      <td>0</td>\n",
       "      <td>0</td>\n",
       "      <td>0</td>\n",
       "    </tr>\n",
       "    <tr>\n",
       "      <th>1208</th>\n",
       "      <td>2020.02.07.10</td>\n",
       "      <td>0</td>\n",
       "      <td>0</td>\n",
       "      <td>0</td>\n",
       "      <td>0</td>\n",
       "      <td>0</td>\n",
       "      <td>0</td>\n",
       "      <td>0</td>\n",
       "      <td>0</td>\n",
       "      <td>0</td>\n",
       "      <td>...</td>\n",
       "      <td>0</td>\n",
       "      <td>0</td>\n",
       "      <td>0</td>\n",
       "      <td>0</td>\n",
       "      <td>0</td>\n",
       "      <td>0</td>\n",
       "      <td>0</td>\n",
       "      <td>0</td>\n",
       "      <td>0</td>\n",
       "      <td>0</td>\n",
       "    </tr>\n",
       "    <tr>\n",
       "      <th>1209</th>\n",
       "      <td>2020.02.06.10</td>\n",
       "      <td>3</td>\n",
       "      <td>0</td>\n",
       "      <td>0</td>\n",
       "      <td>0</td>\n",
       "      <td>0</td>\n",
       "      <td>0</td>\n",
       "      <td>0</td>\n",
       "      <td>0</td>\n",
       "      <td>0</td>\n",
       "      <td>...</td>\n",
       "      <td>0</td>\n",
       "      <td>0</td>\n",
       "      <td>0</td>\n",
       "      <td>0</td>\n",
       "      <td>1</td>\n",
       "      <td>1</td>\n",
       "      <td>0</td>\n",
       "      <td>0</td>\n",
       "      <td>1</td>\n",
       "      <td>0</td>\n",
       "    </tr>\n",
       "    <tr>\n",
       "      <th>1210</th>\n",
       "      <td>2020.02.05.10</td>\n",
       "      <td>3</td>\n",
       "      <td>0</td>\n",
       "      <td>0</td>\n",
       "      <td>0</td>\n",
       "      <td>0</td>\n",
       "      <td>0</td>\n",
       "      <td>0</td>\n",
       "      <td>0</td>\n",
       "      <td>0</td>\n",
       "      <td>...</td>\n",
       "      <td>0</td>\n",
       "      <td>0</td>\n",
       "      <td>0</td>\n",
       "      <td>0</td>\n",
       "      <td>0</td>\n",
       "      <td>0</td>\n",
       "      <td>0</td>\n",
       "      <td>0</td>\n",
       "      <td>1</td>\n",
       "      <td>0</td>\n",
       "    </tr>\n",
       "  </tbody>\n",
       "</table>\n",
       "<p>1211 rows × 53 columns</p>\n",
       "</div>"
      ],
      "text/plain": [
       "연번           자치구기준일  종로구 전체  종로구 추가  중구 전체  중구 추가  용산구 전체  용산구 추가  성동구 전체  \\\n",
       "0     2023.05.31.00   83071      86  74856     79  127651     119  176336   \n",
       "1     2023.05.30.00   82985      53  74777     39  127532      53  176166   \n",
       "2     2023.05.29.00   82932      10  74738     11  127479      20  176070   \n",
       "3     2023.05.28.00   82922      29  74727     42  127459      47  176038   \n",
       "4     2023.05.27.00   82893      54  74685     59  127412      83  175964   \n",
       "...             ...     ...     ...    ...    ...     ...     ...     ...   \n",
       "1206  2020.02.09.10       0       0      0      0       0       0       0   \n",
       "1207  2020.02.08.10       0       0      0      0       0       0       0   \n",
       "1208  2020.02.07.10       0       0      0      0       0       0       0   \n",
       "1209  2020.02.06.10       3       0      0      0       0       0       0   \n",
       "1210  2020.02.05.10       3       0      0      0       0       0       0   \n",
       "\n",
       "연번    성동구 추가  광진구 전체  ...  서초구 전체  서초구 추가  강남구 전체  강남구 추가  송파구 전체  송파구 추가  \\\n",
       "0        170  213585  ...  243336     202  315903     264  405933     412   \n",
       "1         96  213395  ...  243134     114  315639     172  405521     251   \n",
       "2         32  213299  ...  243020      83  315467      86  405270      71   \n",
       "3         74  213269  ...  242937      76  315381     155  405199     146   \n",
       "4        127  213212  ...  242861     146  315226     199  405053     316   \n",
       "...      ...     ...  ...     ...     ...     ...     ...     ...     ...   \n",
       "1206       0       0  ...       0       0       0       0       0       0   \n",
       "1207       0       0  ...       0       0       0       0       0       0   \n",
       "1208       0       0  ...       0       0       0       0       0       0   \n",
       "1209       0       0  ...       0       0       0       0       1       1   \n",
       "1210       0       0  ...       0       0       0       0       0       0   \n",
       "\n",
       "연번    강동구 전체  강동구 추가   기타 전체  기타 추가  \n",
       "0     283400     264  406767    465  \n",
       "1     283136     155  406302    150  \n",
       "2     282981      61  406152     93  \n",
       "3     282920      99  406059    186  \n",
       "4     282821     194  405873    365  \n",
       "...      ...     ...     ...    ...  \n",
       "1206       0       0       0      0  \n",
       "1207       0       0       0      0  \n",
       "1208       0       0       0      0  \n",
       "1209       0       0       1      0  \n",
       "1210       0       0       1      0  \n",
       "\n",
       "[1211 rows x 53 columns]"
      ]
     },
     "execution_count": 3,
     "metadata": {},
     "output_type": "execute_result"
    }
   ],
   "source": [
    "df.columns.name = '연번'\n",
    "df"
   ]
  },
  {
   "cell_type": "code",
   "execution_count": 4,
   "id": "16210065",
   "metadata": {},
   "outputs": [
    {
     "data": {
      "text/plain": [
       "Index(['자치구기준일', '종로구 전체', '종로구 추가', '중구 전체', '중구 추가', '용산구 전체', '용산구 추가',\n",
       "       '성동구 전체', '성동구 추가', '광진구 전체', '광진구 추가', '동대문구 전체', '동대문구 추가', '중랑구 전체',\n",
       "       '중랑구 추가', '성북구 전체', '성북구 추가', '강북구 전체', '강북구 추가', '도봉구 전체', '도봉구 추가',\n",
       "       '노원구 전체', '노원구 추가', '은평구 전체', '은평구 추가', '서대문구 전체', '서대문구 추가', '마포구 전체',\n",
       "       '마포구 추가', '양천구 전체', '양천구 추가', '강서구 전체', '강서구 추가', '구로구 전체', '구로구 추가',\n",
       "       '금천구 전체', '금천구 추가', '영등포구 전체', '영등포구 추가', '동작구 전체', '동작구 추가', '관악구 전체',\n",
       "       '관악구 추가', '서초구 전체', '서초구 추가', '강남구 전체', '강남구 추가', '송파구 전체', '송파구 추가',\n",
       "       '강동구 전체', '강동구 추가', '기타 전체', '기타 추가'],\n",
       "      dtype='object', name='연번')"
      ]
     },
     "execution_count": 4,
     "metadata": {},
     "output_type": "execute_result"
    }
   ],
   "source": [
    "df.columns"
   ]
  },
  {
   "cell_type": "code",
   "execution_count": 5,
   "id": "68eb347f",
   "metadata": {
    "scrolled": true
   },
   "outputs": [
    {
     "name": "stdout",
     "output_type": "stream",
     "text": [
      "<class 'pandas.core.frame.DataFrame'>\n",
      "RangeIndex: 1211 entries, 0 to 1210\n",
      "Data columns (total 53 columns):\n",
      " #   Column   Non-Null Count  Dtype \n",
      "---  ------   --------------  ----- \n",
      " 0   자치구기준일   1211 non-null   object\n",
      " 1   종로구 전체   1211 non-null   int64 \n",
      " 2   종로구 추가   1211 non-null   int64 \n",
      " 3   중구 전체    1211 non-null   int64 \n",
      " 4   중구 추가    1211 non-null   int64 \n",
      " 5   용산구 전체   1211 non-null   int64 \n",
      " 6   용산구 추가   1211 non-null   int64 \n",
      " 7   성동구 전체   1211 non-null   int64 \n",
      " 8   성동구 추가   1211 non-null   int64 \n",
      " 9   광진구 전체   1211 non-null   int64 \n",
      " 10  광진구 추가   1211 non-null   int64 \n",
      " 11  동대문구 전체  1211 non-null   int64 \n",
      " 12  동대문구 추가  1211 non-null   int64 \n",
      " 13  중랑구 전체   1211 non-null   int64 \n",
      " 14  중랑구 추가   1211 non-null   int64 \n",
      " 15  성북구 전체   1211 non-null   int64 \n",
      " 16  성북구 추가   1211 non-null   int64 \n",
      " 17  강북구 전체   1211 non-null   int64 \n",
      " 18  강북구 추가   1211 non-null   int64 \n",
      " 19  도봉구 전체   1211 non-null   int64 \n",
      " 20  도봉구 추가   1211 non-null   int64 \n",
      " 21  노원구 전체   1211 non-null   int64 \n",
      " 22  노원구 추가   1211 non-null   int64 \n",
      " 23  은평구 전체   1211 non-null   int64 \n",
      " 24  은평구 추가   1211 non-null   int64 \n",
      " 25  서대문구 전체  1211 non-null   int64 \n",
      " 26  서대문구 추가  1211 non-null   int64 \n",
      " 27  마포구 전체   1211 non-null   int64 \n",
      " 28  마포구 추가   1211 non-null   int64 \n",
      " 29  양천구 전체   1211 non-null   int64 \n",
      " 30  양천구 추가   1211 non-null   int64 \n",
      " 31  강서구 전체   1211 non-null   int64 \n",
      " 32  강서구 추가   1211 non-null   int64 \n",
      " 33  구로구 전체   1211 non-null   int64 \n",
      " 34  구로구 추가   1211 non-null   int64 \n",
      " 35  금천구 전체   1211 non-null   int64 \n",
      " 36  금천구 추가   1211 non-null   int64 \n",
      " 37  영등포구 전체  1211 non-null   int64 \n",
      " 38  영등포구 추가  1211 non-null   int64 \n",
      " 39  동작구 전체   1211 non-null   int64 \n",
      " 40  동작구 추가   1211 non-null   int64 \n",
      " 41  관악구 전체   1211 non-null   int64 \n",
      " 42  관악구 추가   1211 non-null   int64 \n",
      " 43  서초구 전체   1211 non-null   int64 \n",
      " 44  서초구 추가   1211 non-null   int64 \n",
      " 45  강남구 전체   1211 non-null   int64 \n",
      " 46  강남구 추가   1211 non-null   int64 \n",
      " 47  송파구 전체   1211 non-null   int64 \n",
      " 48  송파구 추가   1211 non-null   int64 \n",
      " 49  강동구 전체   1211 non-null   int64 \n",
      " 50  강동구 추가   1211 non-null   int64 \n",
      " 51  기타 전체    1211 non-null   int64 \n",
      " 52  기타 추가    1211 non-null   int64 \n",
      "dtypes: int64(52), object(1)\n",
      "memory usage: 501.6+ KB\n"
     ]
    }
   ],
   "source": [
    "df.info()"
   ]
  },
  {
   "cell_type": "code",
   "execution_count": 6,
   "id": "50d1551d",
   "metadata": {
    "scrolled": true
   },
   "outputs": [
    {
     "data": {
      "text/plain": [
       "연번\n",
       "자치구기준일     0\n",
       "종로구 전체     0\n",
       "종로구 추가     0\n",
       "중구 전체      0\n",
       "중구 추가      0\n",
       "용산구 전체     0\n",
       "용산구 추가     0\n",
       "성동구 전체     0\n",
       "성동구 추가     0\n",
       "광진구 전체     0\n",
       "광진구 추가     0\n",
       "동대문구 전체    0\n",
       "동대문구 추가    0\n",
       "중랑구 전체     0\n",
       "중랑구 추가     0\n",
       "성북구 전체     0\n",
       "성북구 추가     0\n",
       "강북구 전체     0\n",
       "강북구 추가     0\n",
       "도봉구 전체     0\n",
       "도봉구 추가     0\n",
       "노원구 전체     0\n",
       "노원구 추가     0\n",
       "은평구 전체     0\n",
       "은평구 추가     0\n",
       "서대문구 전체    0\n",
       "서대문구 추가    0\n",
       "마포구 전체     0\n",
       "마포구 추가     0\n",
       "양천구 전체     0\n",
       "양천구 추가     0\n",
       "강서구 전체     0\n",
       "강서구 추가     0\n",
       "구로구 전체     0\n",
       "구로구 추가     0\n",
       "금천구 전체     0\n",
       "금천구 추가     0\n",
       "영등포구 전체    0\n",
       "영등포구 추가    0\n",
       "동작구 전체     0\n",
       "동작구 추가     0\n",
       "관악구 전체     0\n",
       "관악구 추가     0\n",
       "서초구 전체     0\n",
       "서초구 추가     0\n",
       "강남구 전체     0\n",
       "강남구 추가     0\n",
       "송파구 전체     0\n",
       "송파구 추가     0\n",
       "강동구 전체     0\n",
       "강동구 추가     0\n",
       "기타 전체      0\n",
       "기타 추가      0\n",
       "dtype: int64"
      ]
     },
     "execution_count": 6,
     "metadata": {},
     "output_type": "execute_result"
    }
   ],
   "source": [
    "df.isnull().sum()"
   ]
  },
  {
   "cell_type": "code",
   "execution_count": 7,
   "id": "98c57c89",
   "metadata": {},
   "outputs": [
    {
     "data": {
      "text/plain": [
       "<AxesSubplot:>"
      ]
     },
     "execution_count": 7,
     "metadata": {},
     "output_type": "execute_result"
    },
    {
     "data": {
      "image/png": "[encoded data removed]",
      "text/plain": [
       "<Figure size 576x432 with 2 Axes>"
      ]
     },
     "metadata": {
      "needs_background": "light"
     },
     "output_type": "display_data"
    }
   ],
   "source": [
    "msno.matrix(df, figsize=(8, 6))"
   ]
  },
  {
   "cell_type": "code",
   "execution_count": 8,
   "id": "fa55e60c",
   "metadata": {},
   "outputs": [
    {
     "name": "stdout",
     "output_type": "stream",
     "text": [
      "(1211, 53)\n"
     ]
    }
   ],
   "source": [
    "print(df.shape)"
   ]
  },
  {
   "cell_type": "code",
   "execution_count": 9,
   "id": "0471d054",
   "metadata": {
    "scrolled": true
   },
   "outputs": [
    {
     "data": {
      "text/plain": [
       "연번\n",
       "자치구기준일     datetime64[ns]\n",
       "종로구 전체              int64\n",
       "종로구 추가              int64\n",
       "중구 전체               int64\n",
       "중구 추가               int64\n",
       "용산구 전체              int64\n",
       "용산구 추가              int64\n",
       "성동구 전체              int64\n",
       "성동구 추가              int64\n",
       "광진구 전체              int64\n",
       "광진구 추가              int64\n",
       "동대문구 전체             int64\n",
       "동대문구 추가             int64\n",
       "중랑구 전체              int64\n",
       "중랑구 추가              int64\n",
       "성북구 전체              int64\n",
       "성북구 추가              int64\n",
       "강북구 전체              int64\n",
       "강북구 추가              int64\n",
       "도봉구 전체              int64\n",
       "도봉구 추가              int64\n",
       "노원구 전체              int64\n",
       "노원구 추가              int64\n",
       "은평구 전체              int64\n",
       "은평구 추가              int64\n",
       "서대문구 전체             int64\n",
       "서대문구 추가             int64\n",
       "마포구 전체              int64\n",
       "마포구 추가              int64\n",
       "양천구 전체              int64\n",
       "양천구 추가              int64\n",
       "강서구 전체              int64\n",
       "강서구 추가              int64\n",
       "구로구 전체              int64\n",
       "구로구 추가              int64\n",
       "금천구 전체              int64\n",
       "금천구 추가              int64\n",
       "영등포구 전체             int64\n",
       "영등포구 추가             int64\n",
       "동작구 전체              int64\n",
       "동작구 추가              int64\n",
       "관악구 전체              int64\n",
       "관악구 추가              int64\n",
       "서초구 전체              int64\n",
       "서초구 추가              int64\n",
       "강남구 전체              int64\n",
       "강남구 추가              int64\n",
       "송파구 전체              int64\n",
       "송파구 추가              int64\n",
       "강동구 전체              int64\n",
       "강동구 추가              int64\n",
       "기타 전체               int64\n",
       "기타 추가               int64\n",
       "dtype: object"
      ]
     },
     "execution_count": 9,
     "metadata": {},
     "output_type": "execute_result"
    }
   ],
   "source": [
    "df['자치구기준일'] = pd.to_datetime(df.자치구기준일)\n",
    "df.dtypes"
   ]
  },
  {
   "cell_type": "code",
   "execution_count": 10,
   "id": "a850ded8",
   "metadata": {
    "scrolled": true
   },
   "outputs": [
    {
     "name": "stdout",
     "output_type": "stream",
     "text": [
      "<class 'pandas.core.indexes.accessors.DatetimeProperties'>\n",
      "0       2023\n",
      "1       2023\n",
      "2       2023\n",
      "3       2023\n",
      "4       2023\n",
      "        ... \n",
      "1206    2020\n",
      "1207    2020\n",
      "1208    2020\n",
      "1209    2020\n",
      "1210    2020\n",
      "Name: 자치구기준일, Length: 1211, dtype: int64\n",
      "0       2023\n",
      "1       2023\n",
      "2       2023\n",
      "3       2023\n",
      "4       2023\n",
      "        ... \n",
      "1206    2020\n",
      "1207    2020\n",
      "1208    2020\n",
      "1209    2020\n",
      "1210    2020\n",
      "Name: 자치구기준일, Length: 1211, dtype: int32\n"
     ]
    }
   ],
   "source": [
    "print(type(df.자치구기준일.dt))\n",
    "print(df.자치구기준일.dt.year)\n",
    "print(df.자치구기준일.dt.year.astype(int)) # 그냥 year는 너무 많은 크기를 차지하기 때문에 변경"
   ]
  },
  {
   "cell_type": "code",
   "execution_count": 11,
   "id": "96093817",
   "metadata": {
    "scrolled": true
   },
   "outputs": [
    {
     "data": {
      "text/html": [
       "<div>\n",
       "<style scoped>\n",
       "    .dataframe tbody tr th:only-of-type {\n",
       "        vertical-align: middle;\n",
       "    }\n",
       "\n",
       "    .dataframe tbody tr th {\n",
       "        vertical-align: top;\n",
       "    }\n",
       "\n",
       "    .dataframe thead th {\n",
       "        text-align: right;\n",
       "    }\n",
       "</style>\n",
       "<table border=\"1\" class=\"dataframe\">\n",
       "  <thead>\n",
       "    <tr style=\"text-align: right;\">\n",
       "      <th>연번</th>\n",
       "      <th>자치구기준일</th>\n",
       "      <th>종로구 전체</th>\n",
       "      <th>종로구 추가</th>\n",
       "      <th>중구 전체</th>\n",
       "      <th>중구 추가</th>\n",
       "      <th>용산구 전체</th>\n",
       "      <th>용산구 추가</th>\n",
       "      <th>성동구 전체</th>\n",
       "      <th>성동구 추가</th>\n",
       "      <th>광진구 전체</th>\n",
       "      <th>...</th>\n",
       "      <th>송파구 추가</th>\n",
       "      <th>강동구 전체</th>\n",
       "      <th>강동구 추가</th>\n",
       "      <th>기타 전체</th>\n",
       "      <th>기타 추가</th>\n",
       "      <th>연</th>\n",
       "      <th>월</th>\n",
       "      <th>일</th>\n",
       "      <th>연월</th>\n",
       "      <th>요일</th>\n",
       "    </tr>\n",
       "  </thead>\n",
       "  <tbody>\n",
       "    <tr>\n",
       "      <th>0</th>\n",
       "      <td>2023-05-31 00:00:00</td>\n",
       "      <td>83071</td>\n",
       "      <td>86</td>\n",
       "      <td>74856</td>\n",
       "      <td>79</td>\n",
       "      <td>127651</td>\n",
       "      <td>119</td>\n",
       "      <td>176336</td>\n",
       "      <td>170</td>\n",
       "      <td>213585</td>\n",
       "      <td>...</td>\n",
       "      <td>412</td>\n",
       "      <td>283400</td>\n",
       "      <td>264</td>\n",
       "      <td>406767</td>\n",
       "      <td>465</td>\n",
       "      <td>2023</td>\n",
       "      <td>5</td>\n",
       "      <td>31</td>\n",
       "      <td>2023-5</td>\n",
       "      <td>2</td>\n",
       "    </tr>\n",
       "    <tr>\n",
       "      <th>1</th>\n",
       "      <td>2023-05-30 00:00:00</td>\n",
       "      <td>82985</td>\n",
       "      <td>53</td>\n",
       "      <td>74777</td>\n",
       "      <td>39</td>\n",
       "      <td>127532</td>\n",
       "      <td>53</td>\n",
       "      <td>176166</td>\n",
       "      <td>96</td>\n",
       "      <td>213395</td>\n",
       "      <td>...</td>\n",
       "      <td>251</td>\n",
       "      <td>283136</td>\n",
       "      <td>155</td>\n",
       "      <td>406302</td>\n",
       "      <td>150</td>\n",
       "      <td>2023</td>\n",
       "      <td>5</td>\n",
       "      <td>30</td>\n",
       "      <td>2023-5</td>\n",
       "      <td>1</td>\n",
       "    </tr>\n",
       "    <tr>\n",
       "      <th>2</th>\n",
       "      <td>2023-05-29 00:00:00</td>\n",
       "      <td>82932</td>\n",
       "      <td>10</td>\n",
       "      <td>74738</td>\n",
       "      <td>11</td>\n",
       "      <td>127479</td>\n",
       "      <td>20</td>\n",
       "      <td>176070</td>\n",
       "      <td>32</td>\n",
       "      <td>213299</td>\n",
       "      <td>...</td>\n",
       "      <td>71</td>\n",
       "      <td>282981</td>\n",
       "      <td>61</td>\n",
       "      <td>406152</td>\n",
       "      <td>93</td>\n",
       "      <td>2023</td>\n",
       "      <td>5</td>\n",
       "      <td>29</td>\n",
       "      <td>2023-5</td>\n",
       "      <td>0</td>\n",
       "    </tr>\n",
       "    <tr>\n",
       "      <th>3</th>\n",
       "      <td>2023-05-28 00:00:00</td>\n",
       "      <td>82922</td>\n",
       "      <td>29</td>\n",
       "      <td>74727</td>\n",
       "      <td>42</td>\n",
       "      <td>127459</td>\n",
       "      <td>47</td>\n",
       "      <td>176038</td>\n",
       "      <td>74</td>\n",
       "      <td>213269</td>\n",
       "      <td>...</td>\n",
       "      <td>146</td>\n",
       "      <td>282920</td>\n",
       "      <td>99</td>\n",
       "      <td>406059</td>\n",
       "      <td>186</td>\n",
       "      <td>2023</td>\n",
       "      <td>5</td>\n",
       "      <td>28</td>\n",
       "      <td>2023-5</td>\n",
       "      <td>6</td>\n",
       "    </tr>\n",
       "    <tr>\n",
       "      <th>4</th>\n",
       "      <td>2023-05-27 00:00:00</td>\n",
       "      <td>82893</td>\n",
       "      <td>54</td>\n",
       "      <td>74685</td>\n",
       "      <td>59</td>\n",
       "      <td>127412</td>\n",
       "      <td>83</td>\n",
       "      <td>175964</td>\n",
       "      <td>127</td>\n",
       "      <td>213212</td>\n",
       "      <td>...</td>\n",
       "      <td>316</td>\n",
       "      <td>282821</td>\n",
       "      <td>194</td>\n",
       "      <td>405873</td>\n",
       "      <td>365</td>\n",
       "      <td>2023</td>\n",
       "      <td>5</td>\n",
       "      <td>27</td>\n",
       "      <td>2023-5</td>\n",
       "      <td>5</td>\n",
       "    </tr>\n",
       "    <tr>\n",
       "      <th>...</th>\n",
       "      <td>...</td>\n",
       "      <td>...</td>\n",
       "      <td>...</td>\n",
       "      <td>...</td>\n",
       "      <td>...</td>\n",
       "      <td>...</td>\n",
       "      <td>...</td>\n",
       "      <td>...</td>\n",
       "      <td>...</td>\n",
       "      <td>...</td>\n",
       "      <td>...</td>\n",
       "      <td>...</td>\n",
       "      <td>...</td>\n",
       "      <td>...</td>\n",
       "      <td>...</td>\n",
       "      <td>...</td>\n",
       "      <td>...</td>\n",
       "      <td>...</td>\n",
       "      <td>...</td>\n",
       "      <td>...</td>\n",
       "      <td>...</td>\n",
       "    </tr>\n",
       "    <tr>\n",
       "      <th>1206</th>\n",
       "      <td>2020-02-09 10:00:00</td>\n",
       "      <td>0</td>\n",
       "      <td>0</td>\n",
       "      <td>0</td>\n",
       "      <td>0</td>\n",
       "      <td>0</td>\n",
       "      <td>0</td>\n",
       "      <td>0</td>\n",
       "      <td>0</td>\n",
       "      <td>0</td>\n",
       "      <td>...</td>\n",
       "      <td>0</td>\n",
       "      <td>0</td>\n",
       "      <td>0</td>\n",
       "      <td>0</td>\n",
       "      <td>0</td>\n",
       "      <td>2020</td>\n",
       "      <td>2</td>\n",
       "      <td>9</td>\n",
       "      <td>2020-2</td>\n",
       "      <td>6</td>\n",
       "    </tr>\n",
       "    <tr>\n",
       "      <th>1207</th>\n",
       "      <td>2020-02-08 10:00:00</td>\n",
       "      <td>0</td>\n",
       "      <td>0</td>\n",
       "      <td>0</td>\n",
       "      <td>0</td>\n",
       "      <td>0</td>\n",
       "      <td>0</td>\n",
       "      <td>0</td>\n",
       "      <td>0</td>\n",
       "      <td>0</td>\n",
       "      <td>...</td>\n",
       "      <td>0</td>\n",
       "      <td>0</td>\n",
       "      <td>0</td>\n",
       "      <td>0</td>\n",
       "      <td>0</td>\n",
       "      <td>2020</td>\n",
       "      <td>2</td>\n",
       "      <td>8</td>\n",
       "      <td>2020-2</td>\n",
       "      <td>5</td>\n",
       "    </tr>\n",
       "    <tr>\n",
       "      <th>1208</th>\n",
       "      <td>2020-02-07 10:00:00</td>\n",
       "      <td>0</td>\n",
       "      <td>0</td>\n",
       "      <td>0</td>\n",
       "      <td>0</td>\n",
       "      <td>0</td>\n",
       "      <td>0</td>\n",
       "      <td>0</td>\n",
       "      <td>0</td>\n",
       "      <td>0</td>\n",
       "      <td>...</td>\n",
       "      <td>0</td>\n",
       "      <td>0</td>\n",
       "      <td>0</td>\n",
       "      <td>0</td>\n",
       "      <td>0</td>\n",
       "      <td>2020</td>\n",
       "      <td>2</td>\n",
       "      <td>7</td>\n",
       "      <td>2020-2</td>\n",
       "      <td>4</td>\n",
       "    </tr>\n",
       "    <tr>\n",
       "      <th>1209</th>\n",
       "      <td>2020-02-06 10:00:00</td>\n",
       "      <td>3</td>\n",
       "      <td>0</td>\n",
       "      <td>0</td>\n",
       "      <td>0</td>\n",
       "      <td>0</td>\n",
       "      <td>0</td>\n",
       "      <td>0</td>\n",
       "      <td>0</td>\n",
       "      <td>0</td>\n",
       "      <td>...</td>\n",
       "      <td>1</td>\n",
       "      <td>0</td>\n",
       "      <td>0</td>\n",
       "      <td>1</td>\n",
       "      <td>0</td>\n",
       "      <td>2020</td>\n",
       "      <td>2</td>\n",
       "      <td>6</td>\n",
       "      <td>2020-2</td>\n",
       "      <td>3</td>\n",
       "    </tr>\n",
       "    <tr>\n",
       "      <th>1210</th>\n",
       "      <td>2020-02-05 10:00:00</td>\n",
       "      <td>3</td>\n",
       "      <td>0</td>\n",
       "      <td>0</td>\n",
       "      <td>0</td>\n",
       "      <td>0</td>\n",
       "      <td>0</td>\n",
       "      <td>0</td>\n",
       "      <td>0</td>\n",
       "      <td>0</td>\n",
       "      <td>...</td>\n",
       "      <td>0</td>\n",
       "      <td>0</td>\n",
       "      <td>0</td>\n",
       "      <td>1</td>\n",
       "      <td>0</td>\n",
       "      <td>2020</td>\n",
       "      <td>2</td>\n",
       "      <td>5</td>\n",
       "      <td>2020-2</td>\n",
       "      <td>2</td>\n",
       "    </tr>\n",
       "  </tbody>\n",
       "</table>\n",
       "<p>1211 rows × 58 columns</p>\n",
       "</div>"
      ],
      "text/plain": [
       "연번                자치구기준일  종로구 전체  종로구 추가  중구 전체  중구 추가  용산구 전체  용산구 추가  \\\n",
       "0    2023-05-31 00:00:00   83071      86  74856     79  127651     119   \n",
       "1    2023-05-30 00:00:00   82985      53  74777     39  127532      53   \n",
       "2    2023-05-29 00:00:00   82932      10  74738     11  127479      20   \n",
       "3    2023-05-28 00:00:00   82922      29  74727     42  127459      47   \n",
       "4    2023-05-27 00:00:00   82893      54  74685     59  127412      83   \n",
       "...                  ...     ...     ...    ...    ...     ...     ...   \n",
       "1206 2020-02-09 10:00:00       0       0      0      0       0       0   \n",
       "1207 2020-02-08 10:00:00       0       0      0      0       0       0   \n",
       "1208 2020-02-07 10:00:00       0       0      0      0       0       0   \n",
       "1209 2020-02-06 10:00:00       3       0      0      0       0       0   \n",
       "1210 2020-02-05 10:00:00       3       0      0      0       0       0   \n",
       "\n",
       "연번    성동구 전체  성동구 추가  광진구 전체  ...  송파구 추가  강동구 전체  강동구 추가   기타 전체  기타 추가  \\\n",
       "0     176336     170  213585  ...     412  283400     264  406767    465   \n",
       "1     176166      96  213395  ...     251  283136     155  406302    150   \n",
       "2     176070      32  213299  ...      71  282981      61  406152     93   \n",
       "3     176038      74  213269  ...     146  282920      99  406059    186   \n",
       "4     175964     127  213212  ...     316  282821     194  405873    365   \n",
       "...      ...     ...     ...  ...     ...     ...     ...     ...    ...   \n",
       "1206       0       0       0  ...       0       0       0       0      0   \n",
       "1207       0       0       0  ...       0       0       0       0      0   \n",
       "1208       0       0       0  ...       0       0       0       0      0   \n",
       "1209       0       0       0  ...       1       0       0       1      0   \n",
       "1210       0       0       0  ...       0       0       0       1      0   \n",
       "\n",
       "연번       연  월   일      연월  요일  \n",
       "0     2023  5  31  2023-5   2  \n",
       "1     2023  5  30  2023-5   1  \n",
       "2     2023  5  29  2023-5   0  \n",
       "3     2023  5  28  2023-5   6  \n",
       "4     2023  5  27  2023-5   5  \n",
       "...    ... ..  ..     ...  ..  \n",
       "1206  2020  2   9  2020-2   6  \n",
       "1207  2020  2   8  2020-2   5  \n",
       "1208  2020  2   7  2020-2   4  \n",
       "1209  2020  2   6  2020-2   3  \n",
       "1210  2020  2   5  2020-2   2  \n",
       "\n",
       "[1211 rows x 58 columns]"
      ]
     },
     "execution_count": 11,
     "metadata": {},
     "output_type": "execute_result"
    }
   ],
   "source": [
    "df['연'] = df.자치구기준일.dt.year.astype(int)\n",
    "df['월'] = df.자치구기준일.dt.month.astype(int)\n",
    "df['일'] = df.자치구기준일.dt.day.astype(int)\n",
    "df['연월'] = df.연.astype(str) + '-' + df.월.astype(str)\n",
    "df['요일'] = df.자치구기준일.dt.dayofweek.astype(int) # 0(월), 1(화) ... 6(일)\n",
    "df"
   ]
  },
  {
   "cell_type": "code",
   "execution_count": 12,
   "id": "41d120da",
   "metadata": {},
   "outputs": [
    {
     "data": {
      "image/png": "[encoded data removed]",
      "text/plain": [
       "<Figure size 720x432 with 1 Axes>"
      ]
     },
     "metadata": {
      "needs_background": "light"
     },
     "output_type": "display_data"
    }
   ],
   "source": [
    "plt.figure(figsize=(10, 6))\n",
    "sns.countplot(data=df, x='연')\n",
    "plt.show()"
   ]
  },
  {
   "cell_type": "code",
   "execution_count": 13,
   "id": "2725a9f0",
   "metadata": {},
   "outputs": [
    {
     "data": {
      "image/png": "[encoded data removed]",
      "text/plain": [
       "<Figure size 720x432 with 1 Axes>"
      ]
     },
     "metadata": {
      "needs_background": "light"
     },
     "output_type": "display_data"
    }
   ],
   "source": [
    "plt.figure(figsize=(10, 6))\n",
    "sns.countplot(data=df, x='월')\n",
    "plt.show()"
   ]
  },
  {
   "cell_type": "code",
   "execution_count": 14,
   "id": "01804cd9",
   "metadata": {},
   "outputs": [
    {
     "name": "stdout",
     "output_type": "stream",
     "text": [
      "{0: '월', 1: '화', 2: '수', 3: '목', 4: '금', 5: '토', 6: '일'}\n",
      "목\n",
      "목\n"
     ]
    }
   ],
   "source": [
    "# 요일이 숫자로 표시되므로 문자로 저장하는 열을 추가한다.\n",
    "week_dict = {0: '월', 1: '화', 2: '수', 3: '목', 4: '금', 5: '토', 6: '일'}\n",
    "print(week_dict)\n",
    "print(week_dict[3])\n",
    "print(week_dict.get(3))"
   ]
  },
  {
   "cell_type": "code",
   "execution_count": 15,
   "id": "a3d5404e",
   "metadata": {},
   "outputs": [
    {
     "data": {
      "text/html": [
       "<div>\n",
       "<style scoped>\n",
       "    .dataframe tbody tr th:only-of-type {\n",
       "        vertical-align: middle;\n",
       "    }\n",
       "\n",
       "    .dataframe tbody tr th {\n",
       "        vertical-align: top;\n",
       "    }\n",
       "\n",
       "    .dataframe thead th {\n",
       "        text-align: right;\n",
       "    }\n",
       "</style>\n",
       "<table border=\"1\" class=\"dataframe\">\n",
       "  <thead>\n",
       "    <tr style=\"text-align: right;\">\n",
       "      <th>연번</th>\n",
       "      <th>자치구기준일</th>\n",
       "      <th>종로구 전체</th>\n",
       "      <th>종로구 추가</th>\n",
       "      <th>중구 전체</th>\n",
       "      <th>중구 추가</th>\n",
       "      <th>용산구 전체</th>\n",
       "      <th>용산구 추가</th>\n",
       "      <th>성동구 전체</th>\n",
       "      <th>성동구 추가</th>\n",
       "      <th>광진구 전체</th>\n",
       "      <th>...</th>\n",
       "      <th>강동구 전체</th>\n",
       "      <th>강동구 추가</th>\n",
       "      <th>기타 전체</th>\n",
       "      <th>기타 추가</th>\n",
       "      <th>연</th>\n",
       "      <th>월</th>\n",
       "      <th>일</th>\n",
       "      <th>연월</th>\n",
       "      <th>요일</th>\n",
       "      <th>요일_한글</th>\n",
       "    </tr>\n",
       "  </thead>\n",
       "  <tbody>\n",
       "    <tr>\n",
       "      <th>0</th>\n",
       "      <td>2023-05-31 00:00:00</td>\n",
       "      <td>83071</td>\n",
       "      <td>86</td>\n",
       "      <td>74856</td>\n",
       "      <td>79</td>\n",
       "      <td>127651</td>\n",
       "      <td>119</td>\n",
       "      <td>176336</td>\n",
       "      <td>170</td>\n",
       "      <td>213585</td>\n",
       "      <td>...</td>\n",
       "      <td>283400</td>\n",
       "      <td>264</td>\n",
       "      <td>406767</td>\n",
       "      <td>465</td>\n",
       "      <td>2023</td>\n",
       "      <td>5</td>\n",
       "      <td>31</td>\n",
       "      <td>2023-5</td>\n",
       "      <td>2</td>\n",
       "      <td>수요일</td>\n",
       "    </tr>\n",
       "    <tr>\n",
       "      <th>1</th>\n",
       "      <td>2023-05-30 00:00:00</td>\n",
       "      <td>82985</td>\n",
       "      <td>53</td>\n",
       "      <td>74777</td>\n",
       "      <td>39</td>\n",
       "      <td>127532</td>\n",
       "      <td>53</td>\n",
       "      <td>176166</td>\n",
       "      <td>96</td>\n",
       "      <td>213395</td>\n",
       "      <td>...</td>\n",
       "      <td>283136</td>\n",
       "      <td>155</td>\n",
       "      <td>406302</td>\n",
       "      <td>150</td>\n",
       "      <td>2023</td>\n",
       "      <td>5</td>\n",
       "      <td>30</td>\n",
       "      <td>2023-5</td>\n",
       "      <td>1</td>\n",
       "      <td>화요일</td>\n",
       "    </tr>\n",
       "    <tr>\n",
       "      <th>2</th>\n",
       "      <td>2023-05-29 00:00:00</td>\n",
       "      <td>82932</td>\n",
       "      <td>10</td>\n",
       "      <td>74738</td>\n",
       "      <td>11</td>\n",
       "      <td>127479</td>\n",
       "      <td>20</td>\n",
       "      <td>176070</td>\n",
       "      <td>32</td>\n",
       "      <td>213299</td>\n",
       "      <td>...</td>\n",
       "      <td>282981</td>\n",
       "      <td>61</td>\n",
       "      <td>406152</td>\n",
       "      <td>93</td>\n",
       "      <td>2023</td>\n",
       "      <td>5</td>\n",
       "      <td>29</td>\n",
       "      <td>2023-5</td>\n",
       "      <td>0</td>\n",
       "      <td>월요일</td>\n",
       "    </tr>\n",
       "    <tr>\n",
       "      <th>3</th>\n",
       "      <td>2023-05-28 00:00:00</td>\n",
       "      <td>82922</td>\n",
       "      <td>29</td>\n",
       "      <td>74727</td>\n",
       "      <td>42</td>\n",
       "      <td>127459</td>\n",
       "      <td>47</td>\n",
       "      <td>176038</td>\n",
       "      <td>74</td>\n",
       "      <td>213269</td>\n",
       "      <td>...</td>\n",
       "      <td>282920</td>\n",
       "      <td>99</td>\n",
       "      <td>406059</td>\n",
       "      <td>186</td>\n",
       "      <td>2023</td>\n",
       "      <td>5</td>\n",
       "      <td>28</td>\n",
       "      <td>2023-5</td>\n",
       "      <td>6</td>\n",
       "      <td>일요일</td>\n",
       "    </tr>\n",
       "    <tr>\n",
       "      <th>4</th>\n",
       "      <td>2023-05-27 00:00:00</td>\n",
       "      <td>82893</td>\n",
       "      <td>54</td>\n",
       "      <td>74685</td>\n",
       "      <td>59</td>\n",
       "      <td>127412</td>\n",
       "      <td>83</td>\n",
       "      <td>175964</td>\n",
       "      <td>127</td>\n",
       "      <td>213212</td>\n",
       "      <td>...</td>\n",
       "      <td>282821</td>\n",
       "      <td>194</td>\n",
       "      <td>405873</td>\n",
       "      <td>365</td>\n",
       "      <td>2023</td>\n",
       "      <td>5</td>\n",
       "      <td>27</td>\n",
       "      <td>2023-5</td>\n",
       "      <td>5</td>\n",
       "      <td>토요일</td>\n",
       "    </tr>\n",
       "    <tr>\n",
       "      <th>...</th>\n",
       "      <td>...</td>\n",
       "      <td>...</td>\n",
       "      <td>...</td>\n",
       "      <td>...</td>\n",
       "      <td>...</td>\n",
       "      <td>...</td>\n",
       "      <td>...</td>\n",
       "      <td>...</td>\n",
       "      <td>...</td>\n",
       "      <td>...</td>\n",
       "      <td>...</td>\n",
       "      <td>...</td>\n",
       "      <td>...</td>\n",
       "      <td>...</td>\n",
       "      <td>...</td>\n",
       "      <td>...</td>\n",
       "      <td>...</td>\n",
       "      <td>...</td>\n",
       "      <td>...</td>\n",
       "      <td>...</td>\n",
       "      <td>...</td>\n",
       "    </tr>\n",
       "    <tr>\n",
       "      <th>1206</th>\n",
       "      <td>2020-02-09 10:00:00</td>\n",
       "      <td>0</td>\n",
       "      <td>0</td>\n",
       "      <td>0</td>\n",
       "      <td>0</td>\n",
       "      <td>0</td>\n",
       "      <td>0</td>\n",
       "      <td>0</td>\n",
       "      <td>0</td>\n",
       "      <td>0</td>\n",
       "      <td>...</td>\n",
       "      <td>0</td>\n",
       "      <td>0</td>\n",
       "      <td>0</td>\n",
       "      <td>0</td>\n",
       "      <td>2020</td>\n",
       "      <td>2</td>\n",
       "      <td>9</td>\n",
       "      <td>2020-2</td>\n",
       "      <td>6</td>\n",
       "      <td>일요일</td>\n",
       "    </tr>\n",
       "    <tr>\n",
       "      <th>1207</th>\n",
       "      <td>2020-02-08 10:00:00</td>\n",
       "      <td>0</td>\n",
       "      <td>0</td>\n",
       "      <td>0</td>\n",
       "      <td>0</td>\n",
       "      <td>0</td>\n",
       "      <td>0</td>\n",
       "      <td>0</td>\n",
       "      <td>0</td>\n",
       "      <td>0</td>\n",
       "      <td>...</td>\n",
       "      <td>0</td>\n",
       "      <td>0</td>\n",
       "      <td>0</td>\n",
       "      <td>0</td>\n",
       "      <td>2020</td>\n",
       "      <td>2</td>\n",
       "      <td>8</td>\n",
       "      <td>2020-2</td>\n",
       "      <td>5</td>\n",
       "      <td>토요일</td>\n",
       "    </tr>\n",
       "    <tr>\n",
       "      <th>1208</th>\n",
       "      <td>2020-02-07 10:00:00</td>\n",
       "      <td>0</td>\n",
       "      <td>0</td>\n",
       "      <td>0</td>\n",
       "      <td>0</td>\n",
       "      <td>0</td>\n",
       "      <td>0</td>\n",
       "      <td>0</td>\n",
       "      <td>0</td>\n",
       "      <td>0</td>\n",
       "      <td>...</td>\n",
       "      <td>0</td>\n",
       "      <td>0</td>\n",
       "      <td>0</td>\n",
       "      <td>0</td>\n",
       "      <td>2020</td>\n",
       "      <td>2</td>\n",
       "      <td>7</td>\n",
       "      <td>2020-2</td>\n",
       "      <td>4</td>\n",
       "      <td>금요일</td>\n",
       "    </tr>\n",
       "    <tr>\n",
       "      <th>1209</th>\n",
       "      <td>2020-02-06 10:00:00</td>\n",
       "      <td>3</td>\n",
       "      <td>0</td>\n",
       "      <td>0</td>\n",
       "      <td>0</td>\n",
       "      <td>0</td>\n",
       "      <td>0</td>\n",
       "      <td>0</td>\n",
       "      <td>0</td>\n",
       "      <td>0</td>\n",
       "      <td>...</td>\n",
       "      <td>0</td>\n",
       "      <td>0</td>\n",
       "      <td>1</td>\n",
       "      <td>0</td>\n",
       "      <td>2020</td>\n",
       "      <td>2</td>\n",
       "      <td>6</td>\n",
       "      <td>2020-2</td>\n",
       "      <td>3</td>\n",
       "      <td>목요일</td>\n",
       "    </tr>\n",
       "    <tr>\n",
       "      <th>1210</th>\n",
       "      <td>2020-02-05 10:00:00</td>\n",
       "      <td>3</td>\n",
       "      <td>0</td>\n",
       "      <td>0</td>\n",
       "      <td>0</td>\n",
       "      <td>0</td>\n",
       "      <td>0</td>\n",
       "      <td>0</td>\n",
       "      <td>0</td>\n",
       "      <td>0</td>\n",
       "      <td>...</td>\n",
       "      <td>0</td>\n",
       "      <td>0</td>\n",
       "      <td>1</td>\n",
       "      <td>0</td>\n",
       "      <td>2020</td>\n",
       "      <td>2</td>\n",
       "      <td>5</td>\n",
       "      <td>2020-2</td>\n",
       "      <td>2</td>\n",
       "      <td>수요일</td>\n",
       "    </tr>\n",
       "  </tbody>\n",
       "</table>\n",
       "<p>1211 rows × 59 columns</p>\n",
       "</div>"
      ],
      "text/plain": [
       "연번                자치구기준일  종로구 전체  종로구 추가  중구 전체  중구 추가  용산구 전체  용산구 추가  \\\n",
       "0    2023-05-31 00:00:00   83071      86  74856     79  127651     119   \n",
       "1    2023-05-30 00:00:00   82985      53  74777     39  127532      53   \n",
       "2    2023-05-29 00:00:00   82932      10  74738     11  127479      20   \n",
       "3    2023-05-28 00:00:00   82922      29  74727     42  127459      47   \n",
       "4    2023-05-27 00:00:00   82893      54  74685     59  127412      83   \n",
       "...                  ...     ...     ...    ...    ...     ...     ...   \n",
       "1206 2020-02-09 10:00:00       0       0      0      0       0       0   \n",
       "1207 2020-02-08 10:00:00       0       0      0      0       0       0   \n",
       "1208 2020-02-07 10:00:00       0       0      0      0       0       0   \n",
       "1209 2020-02-06 10:00:00       3       0      0      0       0       0   \n",
       "1210 2020-02-05 10:00:00       3       0      0      0       0       0   \n",
       "\n",
       "연번    성동구 전체  성동구 추가  광진구 전체  ...  강동구 전체  강동구 추가   기타 전체  기타 추가     연  월   일  \\\n",
       "0     176336     170  213585  ...  283400     264  406767    465  2023  5  31   \n",
       "1     176166      96  213395  ...  283136     155  406302    150  2023  5  30   \n",
       "2     176070      32  213299  ...  282981      61  406152     93  2023  5  29   \n",
       "3     176038      74  213269  ...  282920      99  406059    186  2023  5  28   \n",
       "4     175964     127  213212  ...  282821     194  405873    365  2023  5  27   \n",
       "...      ...     ...     ...  ...     ...     ...     ...    ...   ... ..  ..   \n",
       "1206       0       0       0  ...       0       0       0      0  2020  2   9   \n",
       "1207       0       0       0  ...       0       0       0      0  2020  2   8   \n",
       "1208       0       0       0  ...       0       0       0      0  2020  2   7   \n",
       "1209       0       0       0  ...       0       0       1      0  2020  2   6   \n",
       "1210       0       0       0  ...       0       0       1      0  2020  2   5   \n",
       "\n",
       "연번        연월  요일  요일_한글  \n",
       "0     2023-5   2    수요일  \n",
       "1     2023-5   1    화요일  \n",
       "2     2023-5   0    월요일  \n",
       "3     2023-5   6    일요일  \n",
       "4     2023-5   5    토요일  \n",
       "...      ...  ..    ...  \n",
       "1206  2020-2   6    일요일  \n",
       "1207  2020-2   5    토요일  \n",
       "1208  2020-2   4    금요일  \n",
       "1209  2020-2   3    목요일  \n",
       "1210  2020-2   2    수요일  \n",
       "\n",
       "[1211 rows x 59 columns]"
      ]
     },
     "execution_count": 15,
     "metadata": {},
     "output_type": "execute_result"
    }
   ],
   "source": [
    "df['요일_한글'] = df.요일.apply(lambda week: week_dict[week] + '요일')\n",
    "df"
   ]
  },
  {
   "cell_type": "code",
   "execution_count": 79,
   "id": "3e95e199",
   "metadata": {
    "scrolled": false
   },
   "outputs": [
    {
     "data": {
      "image/png": "[encoded data removed]",
      "text/plain": [
       "<Figure size 864x576 with 1 Axes>"
      ]
     },
     "metadata": {
      "needs_background": "light"
     },
     "output_type": "display_data"
    }
   ],
   "source": [
    "plt.figure(figsize=(12, 8))\n",
    "sns.barplot(data=df, x='연', y='중구 전체')\n",
    "plt.ylim(0, 400000)\n",
    "plt.show()"
   ]
  },
  {
   "cell_type": "code",
   "execution_count": 80,
   "id": "9e434d31",
   "metadata": {
    "scrolled": false
   },
   "outputs": [
    {
     "data": {
      "image/png": "[encoded data removed]",
      "text/plain": [
       "<Figure size 864x576 with 1 Axes>"
      ]
     },
     "metadata": {
      "needs_background": "light"
     },
     "output_type": "display_data"
    }
   ],
   "source": [
    "plt.figure(figsize=(12, 8))\n",
    "sns.barplot(data=df, x='연', y='도봉구 전체')\n",
    "plt.ylim(0, 400000)\n",
    "plt.show()"
   ]
  },
  {
   "cell_type": "code",
   "execution_count": 81,
   "id": "cac305c4",
   "metadata": {
    "scrolled": false
   },
   "outputs": [
    {
     "data": {
      "image/png": "[encoded data removed]",
      "text/plain": [
       "<Figure size 864x576 with 1 Axes>"
      ]
     },
     "metadata": {
      "needs_background": "light"
     },
     "output_type": "display_data"
    }
   ],
   "source": [
    "plt.figure(figsize=(12, 8))\n",
    "sns.barplot(data=df, x='연', y='기타 전체')\n",
    "plt.ylim(0, 400000)\n",
    "plt.show()"
   ]
  },
  {
   "cell_type": "code",
   "execution_count": 82,
   "id": "9b6760ef",
   "metadata": {},
   "outputs": [
    {
     "data": {
      "image/png": "[encoded data removed]",
      "text/plain": [
       "<Figure size 864x576 with 1 Axes>"
      ]
     },
     "metadata": {
      "needs_background": "light"
     },
     "output_type": "display_data"
    }
   ],
   "source": [
    "plt.figure(figsize=(12, 8))\n",
    "sns.barplot(data=df, x='연', y='종로구 전체')\n",
    "plt.ylim(0, 400000)\n",
    "plt.show()"
   ]
  },
  {
   "cell_type": "code",
   "execution_count": 83,
   "id": "d05a1354",
   "metadata": {},
   "outputs": [
    {
     "data": {
      "image/png": "[encoded data removed]",
      "text/plain": [
       "<Figure size 864x576 with 1 Axes>"
      ]
     },
     "metadata": {
      "needs_background": "light"
     },
     "output_type": "display_data"
    }
   ],
   "source": [
    "plt.figure(figsize=(12, 8))\n",
    "sns.barplot(data=df, x='연', y='용산구 전체')\n",
    "plt.ylim(0, 400000)\n",
    "plt.show()"
   ]
  },
  {
   "cell_type": "code",
   "execution_count": 84,
   "id": "50553cfe",
   "metadata": {},
   "outputs": [
    {
     "data": {
      "image/png": "[encoded data removed]",
      "text/plain": [
       "<Figure size 864x576 with 1 Axes>"
      ]
     },
     "metadata": {
      "needs_background": "light"
     },
     "output_type": "display_data"
    }
   ],
   "source": [
    "plt.figure(figsize=(12, 8))\n",
    "sns.barplot(data=df, x='연', y='성동구 전체')\n",
    "plt.ylim(0, 400000)\n",
    "plt.show()"
   ]
  },
  {
   "cell_type": "code",
   "execution_count": 85,
   "id": "a93f59b8",
   "metadata": {},
   "outputs": [
    {
     "data": {
      "image/png": "[encoded data removed]",
      "text/plain": [
       "<Figure size 864x576 with 1 Axes>"
      ]
     },
     "metadata": {
      "needs_background": "light"
     },
     "output_type": "display_data"
    }
   ],
   "source": [
    "plt.figure(figsize=(12, 8))\n",
    "sns.barplot(data=df, x='연', y='광진구 전체')\n",
    "plt.ylim(0, 400000)\n",
    "plt.show()"
   ]
  },
  {
   "cell_type": "code",
   "execution_count": 86,
   "id": "6209157b",
   "metadata": {},
   "outputs": [
    {
     "data": {
      "image/png": "[encoded data removed]",
      "text/plain": [
       "<Figure size 864x576 with 1 Axes>"
      ]
     },
     "metadata": {
      "needs_background": "light"
     },
     "output_type": "display_data"
    }
   ],
   "source": [
    "plt.figure(figsize=(12, 8))\n",
    "sns.barplot(data=df, x='연', y='동대문구 전체')\n",
    "plt.ylim(0, 400000)\n",
    "plt.show()"
   ]
  },
  {
   "cell_type": "code",
   "execution_count": 87,
   "id": "030ec3d2",
   "metadata": {},
   "outputs": [
    {
     "data": {
      "image/png": "[encoded data removed]",
      "text/plain": [
       "<Figure size 864x576 with 1 Axes>"
      ]
     },
     "metadata": {
      "needs_background": "light"
     },
     "output_type": "display_data"
    }
   ],
   "source": [
    "plt.figure(figsize=(12, 8))\n",
    "sns.barplot(data=df, x='연', y='중랑구 전체')\n",
    "plt.ylim(0, 400000)\n",
    "plt.show()"
   ]
  },
  {
   "cell_type": "code",
   "execution_count": 88,
   "id": "45926889",
   "metadata": {},
   "outputs": [
    {
     "data": {
      "image/png": "[encoded data removed]",
      "text/plain": [
       "<Figure size 864x576 with 1 Axes>"
      ]
     },
     "metadata": {
      "needs_background": "light"
     },
     "output_type": "display_data"
    }
   ],
   "source": [
    "plt.figure(figsize=(12, 8))\n",
    "sns.barplot(data=df, x='연', y='성북구 전체')\n",
    "plt.ylim(0, 400000)\n",
    "plt.show()"
   ]
  },
  {
   "cell_type": "code",
   "execution_count": 89,
   "id": "d55bc5a1",
   "metadata": {},
   "outputs": [
    {
     "data": {
      "image/png": "[encoded data removed]",
      "text/plain": [
       "<Figure size 864x576 with 1 Axes>"
      ]
     },
     "metadata": {
      "needs_background": "light"
     },
     "output_type": "display_data"
    }
   ],
   "source": [
    "plt.figure(figsize=(12, 8))\n",
    "sns.barplot(data=df, x='연', y='강북구 전체')\n",
    "plt.ylim(0, 400000)\n",
    "plt.show()"
   ]
  },
  {
   "cell_type": "code",
   "execution_count": 90,
   "id": "b7867e67",
   "metadata": {},
   "outputs": [
    {
     "data": {
      "image/png": "[encoded data removed]",
      "text/plain": [
       "<Figure size 864x576 with 1 Axes>"
      ]
     },
     "metadata": {
      "needs_background": "light"
     },
     "output_type": "display_data"
    }
   ],
   "source": [
    "plt.figure(figsize=(12, 8))\n",
    "sns.barplot(data=df, x='연', y='노원구 전체')\n",
    "plt.ylim(0, 400000)\n",
    "plt.show()"
   ]
  },
  {
   "cell_type": "code",
   "execution_count": 91,
   "id": "6deace06",
   "metadata": {},
   "outputs": [
    {
     "data": {
      "image/png": "[encoded data removed]",
      "text/plain": [
       "<Figure size 864x576 with 1 Axes>"
      ]
     },
     "metadata": {
      "needs_background": "light"
     },
     "output_type": "display_data"
    }
   ],
   "source": [
    "plt.figure(figsize=(12, 8))\n",
    "sns.barplot(data=df, x='연', y='은평구 전체')\n",
    "plt.ylim(0, 400000)\n",
    "plt.show()"
   ]
  },
  {
   "cell_type": "code",
   "execution_count": 92,
   "id": "42b90b49",
   "metadata": {},
   "outputs": [
    {
     "data": {
      "image/png": "[encoded data removed]",
      "text/plain": [
       "<Figure size 864x576 with 1 Axes>"
      ]
     },
     "metadata": {
      "needs_background": "light"
     },
     "output_type": "display_data"
    }
   ],
   "source": [
    "plt.figure(figsize=(12, 8))\n",
    "sns.barplot(data=df, x='연', y='서대문구 전체')\n",
    "plt.ylim(0, 400000)\n",
    "plt.show()"
   ]
  },
  {
   "cell_type": "code",
   "execution_count": 93,
   "id": "61838c52",
   "metadata": {},
   "outputs": [
    {
     "data": {
      "image/png": "[encoded data removed]",
      "text/plain": [
       "<Figure size 864x576 with 1 Axes>"
      ]
     },
     "metadata": {
      "needs_background": "light"
     },
     "output_type": "display_data"
    }
   ],
   "source": [
    "plt.figure(figsize=(12, 8))\n",
    "sns.barplot(data=df, x='연', y='마포구 전체')\n",
    "plt.ylim(0, 400000)\n",
    "plt.show()"
   ]
  },
  {
   "cell_type": "code",
   "execution_count": 94,
   "id": "1a575502",
   "metadata": {},
   "outputs": [
    {
     "data": {
      "image/png": "[encoded data removed]",
      "text/plain": [
       "<Figure size 864x576 with 1 Axes>"
      ]
     },
     "metadata": {
      "needs_background": "light"
     },
     "output_type": "display_data"
    }
   ],
   "source": [
    "plt.figure(figsize=(12, 8))\n",
    "sns.barplot(data=df, x='연', y='양천구 전체')\n",
    "plt.ylim(0, 400000)\n",
    "plt.show()"
   ]
  },
  {
   "cell_type": "code",
   "execution_count": 95,
   "id": "955b7fe1",
   "metadata": {},
   "outputs": [
    {
     "data": {
      "image/png": "[encoded data removed]",
      "text/plain": [
       "<Figure size 864x576 with 1 Axes>"
      ]
     },
     "metadata": {
      "needs_background": "light"
     },
     "output_type": "display_data"
    }
   ],
   "source": [
    "plt.figure(figsize=(12, 8))\n",
    "sns.barplot(data=df, x='연', y='강서구 전체')\n",
    "plt.ylim(0, 400000)\n",
    "plt.show()"
   ]
  },
  {
   "cell_type": "code",
   "execution_count": 96,
   "id": "fc2d6557",
   "metadata": {},
   "outputs": [
    {
     "data": {
      "image/png": "[encoded data removed]",
      "text/plain": [
       "<Figure size 864x576 with 1 Axes>"
      ]
     },
     "metadata": {
      "needs_background": "light"
     },
     "output_type": "display_data"
    }
   ],
   "source": [
    "plt.figure(figsize=(12, 8))\n",
    "sns.barplot(data=df, x='연', y='구로구 전체')\n",
    "plt.ylim(0, 400000)\n",
    "plt.show()"
   ]
  },
  {
   "cell_type": "code",
   "execution_count": 97,
   "id": "3218e7ca",
   "metadata": {},
   "outputs": [
    {
     "data": {
      "image/png": "[encoded data removed]",
      "text/plain": [
       "<Figure size 864x576 with 1 Axes>"
      ]
     },
     "metadata": {
      "needs_background": "light"
     },
     "output_type": "display_data"
    }
   ],
   "source": [
    "plt.figure(figsize=(12, 8))\n",
    "sns.barplot(data=df, x='연', y='금천구 전체')\n",
    "plt.ylim(0, 400000)\n",
    "plt.show()"
   ]
  },
  {
   "cell_type": "code",
   "execution_count": 104,
   "id": "f90a86e1",
   "metadata": {},
   "outputs": [
    {
     "data": {
      "image/png": "[encoded data removed]",
      "text/plain": [
       "<Figure size 864x576 with 1 Axes>"
      ]
     },
     "metadata": {
      "needs_background": "light"
     },
     "output_type": "display_data"
    }
   ],
   "source": [
    "plt.figure(figsize=(12, 8))\n",
    "sns.barplot(data=df, x='연', y='영등포구 전체')\n",
    "plt.ylim(0, 400000)\n",
    "plt.show()"
   ]
  },
  {
   "cell_type": "code",
   "execution_count": 103,
   "id": "6cabb932",
   "metadata": {},
   "outputs": [
    {
     "data": {
      "image/png": "[encoded data removed]",
      "text/plain": [
       "<Figure size 864x576 with 1 Axes>"
      ]
     },
     "metadata": {
      "needs_background": "light"
     },
     "output_type": "display_data"
    }
   ],
   "source": [
    "plt.figure(figsize=(12, 8))\n",
    "sns.barplot(data=df, x='연', y='동작구 전체')\n",
    "plt.ylim(0, 400000)\n",
    "plt.show()"
   ]
  },
  {
   "cell_type": "code",
   "execution_count": 102,
   "id": "9d86799f",
   "metadata": {},
   "outputs": [
    {
     "data": {
      "image/png": "[encoded data removed]",
      "text/plain": [
       "<Figure size 864x576 with 1 Axes>"
      ]
     },
     "metadata": {
      "needs_background": "light"
     },
     "output_type": "display_data"
    }
   ],
   "source": [
    "plt.figure(figsize=(12, 8))\n",
    "sns.barplot(data=df, x='연', y='관악구 전체')\n",
    "plt.ylim(0, 400000)\n",
    "plt.show()"
   ]
  },
  {
   "cell_type": "code",
   "execution_count": 101,
   "id": "79e8016a",
   "metadata": {},
   "outputs": [
    {
     "data": {
      "image/png": "[encoded data removed]",
      "text/plain": [
       "<Figure size 864x576 with 1 Axes>"
      ]
     },
     "metadata": {
      "needs_background": "light"
     },
     "output_type": "display_data"
    }
   ],
   "source": [
    "plt.figure(figsize=(12, 8))\n",
    "sns.barplot(data=df, x='연', y='서초구 전체')\n",
    "plt.ylim(0, 400000)\n",
    "plt.show()"
   ]
  },
  {
   "cell_type": "code",
   "execution_count": 100,
   "id": "377ebd10",
   "metadata": {},
   "outputs": [
    {
     "data": {
      "image/png": "[encoded data removed]",
      "text/plain": [
       "<Figure size 864x576 with 1 Axes>"
      ]
     },
     "metadata": {
      "needs_background": "light"
     },
     "output_type": "display_data"
    }
   ],
   "source": [
    "plt.figure(figsize=(12, 8))\n",
    "sns.barplot(data=df, x='연', y='강남구 전체')\n",
    "plt.ylim(0, 400000)\n",
    "plt.show()"
   ]
  },
  {
   "cell_type": "code",
   "execution_count": 99,
   "id": "bdf7653b",
   "metadata": {},
   "outputs": [
    {
     "data": {
      "image/png": "[encoded data removed]",
      "text/plain": [
       "<Figure size 864x576 with 1 Axes>"
      ]
     },
     "metadata": {
      "needs_background": "light"
     },
     "output_type": "display_data"
    }
   ],
   "source": [
    "plt.figure(figsize=(12, 8))\n",
    "sns.barplot(data=df, x='연', y='송파구 전체')\n",
    "plt.ylim(0, 400000)\n",
    "plt.show()"
   ]
  },
  {
   "cell_type": "code",
   "execution_count": 98,
   "id": "9a1d0750",
   "metadata": {},
   "outputs": [
    {
     "data": {
      "image/png": "[encoded data removed]",
      "text/plain": [
       "<Figure size 864x576 with 1 Axes>"
      ]
     },
     "metadata": {
      "needs_background": "light"
     },
     "output_type": "display_data"
    }
   ],
   "source": [
    "plt.figure(figsize=(12, 8))\n",
    "sns.barplot(data=df, x='연', y='강동구 전체')\n",
    "plt.ylim(0, 400000)\n",
    "plt.show()"
   ]
  },
  {
   "cell_type": "markdown",
   "id": "2803cd81",
   "metadata": {},
   "source": [
    "워드클라우드"
   ]
  },
  {
   "cell_type": "code",
   "execution_count": 105,
   "id": "462c0888",
   "metadata": {},
   "outputs": [],
   "source": [
    "from wordcloud import WordCloud"
   ]
  },
  {
   "cell_type": "code",
   "execution_count": null,
   "id": "c5f45ab0",
   "metadata": {},
   "outputs": [],
   "source": []
  },
  {
   "cell_type": "code",
   "execution_count": null,
   "id": "372d6f27",
   "metadata": {},
   "outputs": [],
   "source": []
  },
  {
   "cell_type": "code",
   "execution_count": null,
   "id": "e7c2a561",
   "metadata": {},
   "outputs": [],
   "source": [
    " "
   ]
  },
  {
   "cell_type": "code",
   "execution_count": null,
   "id": "bac44db5",
   "metadata": {},
   "outputs": [],
   "source": []
  },
  {
   "cell_type": "code",
   "execution_count": null,
   "id": "08ebbed6",
   "metadata": {},
   "outputs": [],
   "source": []
  },
  {
   "cell_type": "code",
   "execution_count": null,
   "id": "33a4bfd5",
   "metadata": {},
   "outputs": [],
   "source": []
  },
  {
   "cell_type": "code",
   "execution_count": null,
   "id": "54f52856",
   "metadata": {},
   "outputs": [],
   "source": []
  },
  {
   "cell_type": "code",
   "execution_count": null,
   "id": "36e71e1c",
   "metadata": {},
   "outputs": [],
   "source": []
  },
  {
   "cell_type": "code",
   "execution_count": null,
   "id": "1c622347",
   "metadata": {},
   "outputs": [],
   "source": []
  },
  {
   "cell_type": "code",
   "execution_count": null,
   "id": "28f04189",
   "metadata": {},
   "outputs": [],
   "source": []
  },
  {
   "cell_type": "code",
   "execution_count": null,
   "id": "eebce59d",
   "metadata": {},
   "outputs": [],
   "source": []
  },
  {
   "cell_type": "code",
   "execution_count": null,
   "id": "14dfec2d",
   "metadata": {},
   "outputs": [],
   "source": []
  }
 ],
 "metadata": {
  "kernelspec": {
   "display_name": "Python 3",
   "language": "python",
   "name": "python3"
  },
  "language_info": {
   "codemirror_mode": {
    "name": "ipython",
    "version": 3
   },
   "file_extension": ".py",
   "mimetype": "text/x-python",
   "name": "python",
   "nbconvert_exporter": "python",
   "pygments_lexer": "ipython3",
   "version": "3.6.8"
  }
 },
 "nbformat": 4,
 "nbformat_minor": 5
}
