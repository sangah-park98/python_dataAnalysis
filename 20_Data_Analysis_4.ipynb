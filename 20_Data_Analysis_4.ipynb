{
 "cells": [
  {
   "cell_type": "code",
   "execution_count": null,
   "id": "a132f639",
   "metadata": {},
   "outputs": [],
   "source": [
    "import warnings\n",
    "warnings.filterwarnings(action='ignore')\n",
    "%config Computer.use_jedi = False\n",
    "import requests\n",
    "import json\n",
    "import folium\n",
    "import numpy as np\n",
    "import pandas as pd\n",
    "from pandas.io.json import json_normalize"
   ]
  },
  {
   "cell_type": "code",
   "execution_count": null,
   "id": "13c4cfc9",
   "metadata": {},
   "outputs": [],
   "source": [
    "# 따릉이 서버에 post 방식으로 요청을 해서 서버가 응답하는 데이터를 받는다.\n",
    "targetSite = 'https://www.bikeseoul.com/app/station/getStationRealtimeStatus.do'\n",
    "request = requests.post(targetSite, data={\n",
    "    'stationGrpSeq': 'ALL'\n",
    "})\n",
    "print(request)\n",
    "print(type(request.text)) # <class 'str'>\n",
    "print(request.text)"
   ]
  },
  {
   "cell_type": "code",
   "execution_count": null,
   "id": "78a124d5",
   "metadata": {},
   "outputs": [],
   "source": [
    "# 따릉이 서버가 응답한 json 형태의 문자열을 파이썬에서 사용하기 위해서 딕셔너리 타입으로 변환한다.\n",
    "# json 모듈의 loads() 메소드 사용\n",
    "bike_json = json.loads(request.text) # 'bike_json = request.json()'와 같다. => requests 모듈의 json 메소드 사용\n",
    "print(type(bike_json)) # json을 사용했더니 <class 'dict'>로 바뀜\n",
    "print(bike_json.keys())\n",
    "print(bike_json)"
   ]
  },
  {
   "cell_type": "code",
   "execution_count": null,
   "id": "a4d65bc1",
   "metadata": {},
   "outputs": [],
   "source": [
    "bike_json['realtimeList'] \n",
    "# bike_json.get('realtimeList') \n",
    "# bike_json.('realtimeList') X => get을 꼭 써줘야 하고, 안 쓰는 건 pd에서 가능"
   ]
  },
  {
   "cell_type": "code",
   "execution_count": null,
   "id": "be8cde26",
   "metadata": {},
   "outputs": [],
   "source": [
    "# pandas.io.json 모듈의 json_normalize() 메소드로 json 타입의 데이터가 변환된 딕셔너리를 판다스 데이터프레임으로 변환한다.\n",
    "# 데이터가 많을 때는 pd가 편하기 때문!\n",
    "# json_normalize(딕셔너리, 데이터프레임으로 변환할 데이터가 할당된 딕셔너리의 key)\n",
    "bike_df = json_normalize(bike_json, 'realtimeList')\n",
    "bike_df"
   ]
  },
  {
   "cell_type": "code",
   "execution_count": null,
   "id": "0d044b8a",
   "metadata": {},
   "outputs": [],
   "source": [
    "bike_df.columns"
   ]
  },
  {
   "cell_type": "code",
   "execution_count": null,
   "id": "aad40cc4",
   "metadata": {},
   "outputs": [],
   "source": [
    "# stationId': 대여소 id\n",
    "# stationName: 대여소 이름\n",
    "# stationLongitude: 대여소 경도\n",
    "# stationLatitude: 위도\n",
    "# rackTotCnt: 주차 가능한 자전거 대여수\n",
    "# parkingBikeTotCnt: 주차된 따릉이 LCD형 대수 => 사용하지 않음\n",
    "# parkingQRBikeCnt: 주차된 따릉이 QR형 대수 => 일반 따릉이\n",
    "# parkingELECBikeCnt: 주차된 새싹 따릉이 대수\n",
    "\n",
    "bike_df_map = bike_df[['stationId', 'stationName', 'stationLongitude', 'stationLatitude', 'parkingQRBikeCnt', 'parkingELECBikeCnt']]\n",
    "bike_df_map"
   ]
  },
  {
   "cell_type": "code",
   "execution_count": null,
   "id": "f00da6cf",
   "metadata": {},
   "outputs": [],
   "source": [
    "# bike_df_map.dtypes\n",
    "# => 타입 확인 결과 object(=Str)\n",
    "bike_df_map.info() "
   ]
  },
  {
   "cell_type": "code",
   "execution_count": null,
   "id": "8f0e42c6",
   "metadata": {},
   "outputs": [],
   "source": [
    "bike_df_map['stationLongitude'] = bike_df_map['stationLongitude'].astype(float)\n",
    "bike_df_map['stationLatitude'] = bike_df_map['stationLatitude'].astype(float)\n",
    "bike_df_map['parkingQRBikeCnt'] = bike_df_map['parkingQRBikeCnt'].astype(int)\n",
    "bike_df_map['parkingELECBikeCnt'] = bike_df_map['parkingELECBikeCnt'].astype(int)\n",
    "bike_df_map['parkingTotalBikeCnt'] = bike_df_map['parkingQRBikeCnt'] + bike_df_map['parkingELECBikeCnt']\n",
    "bike_df_map"
   ]
  },
  {
   "cell_type": "code",
   "execution_count": null,
   "id": "400dd80c",
   "metadata": {},
   "outputs": [],
   "source": [
    "bike_df_map.info() "
   ]
  },
  {
   "cell_type": "code",
   "execution_count": null,
   "id": "2534a270",
   "metadata": {},
   "outputs": [],
   "source": [
    "# bike_df_map.to_csv('./data/bike_df_map.csv', index=False) # csv파일 내릴 때는 꼭 index=False 넣기(인덱스가 데이터로 착각할 수 있어서)"
   ]
  },
  {
   "cell_type": "markdown",
   "id": "816fb049",
   "metadata": {},
   "source": [
    "Geo Coding  \n",
    "\n",
    "지오코딩 => 주소로 위도와 경도 얻기  \n",
    "역지오코딩 => 위도와 경도로 주소 얻기  \n",
    "!pip install geopy  "
   ]
  },
  {
   "cell_type": "code",
   "execution_count": null,
   "id": "97ee3ebe",
   "metadata": {},
   "outputs": [],
   "source": [
    "from geopy.geocoders import Nominatim"
   ]
  },
  {
   "cell_type": "code",
   "execution_count": null,
   "id": "5d38427a",
   "metadata": {},
   "outputs": [],
   "source": [
    "# 주소를 인수로 넘겨받아 위도와 경도를 리턴하는 함수\n",
    "def geocoding(address):\n",
    "    geolocoder = Nominatim(user_agent='South Korea', timeout=None)\n",
    "    geo = geolocoder.geocode(address)\n",
    "    return {'위도': geo.latitude, '경도': geo.longitude}\n",
    "\n",
    "# address = geocoding('서울시 관악구 봉천동')\n",
    "# address = geocoding('서울시 종로구 삼일대로') # 더 자세한 주소 정보는 불가\n",
    "# print(address)"
   ]
  },
  {
   "cell_type": "code",
   "execution_count": null,
   "id": "8bd3f1e8",
   "metadata": {},
   "outputs": [],
   "source": [
    "# 위도와 경도를 넘겨받아 주소를 리턴하는 함수\n",
    "def geocoding_reverse(lat_lot):\n",
    "    geolocoder = Nominatim(user_agent='South Korea', timeout=None)\n",
    "    return geolocoder.reverse(lat_lot)\n",
    "'''\n",
    "address = geocoding_reverse('37.484665,126.9484961')\n",
    "# print(type(address))\n",
    "# print(address)\n",
    "addr = str(address).split(', ')\n",
    "# print(type(addr))\n",
    "# ['서울신봉초등학교', '양녕로6길', '봉천동', '중앙동', '관악구', '서울', '08729', '대한민국']\n",
    "print(addr[-3], addr[-4], addr[-6])\n",
    "\n",
    "address = geocoding_reverse('37.54018026,126.97359281')\n",
    "addr = str(address).split(', ')\n",
    "# ['한강대로', '남영동', '용산구', '서울', '04353', '대한민국']\n",
    "print(addr[-3], addr[-4], addr[-5])\n",
    "\n",
    "address = geocoding_reverse('37.1497727,127.0770233')\n",
    "addr = str(address).split(', ')\n",
    "# ['동부대로', '오산시', '경기도', '18132', '대한민국']\n",
    "print(addr[-3], addr[-4], addr[-5])\n",
    "'''\n",
    "pass"
   ]
  },
  {
   "cell_type": "code",
   "execution_count": null,
   "id": "bbf51c8c",
   "metadata": {},
   "outputs": [],
   "source": [
    "bike_df_map['goo'] = np.NaN\n",
    "bike_df_map['dong'] = np.NaN\n",
    "bike_df_map"
   ]
  },
  {
   "cell_type": "code",
   "execution_count": null,
   "id": "b0d2c5e8",
   "metadata": {},
   "outputs": [],
   "source": [
    "# goo와 dong에 위에서 얻은 위도와 경도를 이용해서 주소 넣기\n",
    "# 2718 rows × 9 columns의 형태이므로 shape을 통해 행과 열을 돌릴 수 있다.\n",
    "'''\n",
    "for i in range(bike_df_map.shape[0])[:]:\n",
    "    lat_lot = '{},{}'.format(bike_df_map.loc[i, 'stationLatitude'], bike_df_map.loc[i, 'stationLongitude'])\n",
    "    # print(lat_lot)\n",
    "    address = geocoding_reverse(lat_lot) # 위 함수로 올라가서 위도와 경도 얻어온다.\n",
    "    addr = str(address).split(', ') # 얻어온 위도와 경도를 , 단위로 분리\n",
    "    # print(addr[-4], addr[-5]) # 그 후 뒤에서 4번째, 5번째 값 출력\n",
    "    try:\n",
    "        bike_df_map.loc[i, 'goo'] = addr[-4]\n",
    "    except:\n",
    "        print('{}번째 인덱스 스테이션의 -4번째 주소가 없음'.format(i))\n",
    "    try:\n",
    "        bike_df_map.loc[i, 'dong'] = addr[-5]\n",
    "    except:\n",
    "        print('{}번째 인덱스 스테이션의 -5번째 주소가 없음'.format(i))\n",
    "\n",
    "bike_df_map\n",
    "'''\n",
    "pass"
   ]
  },
  {
   "cell_type": "code",
   "execution_count": null,
   "id": "4160870d",
   "metadata": {},
   "outputs": [],
   "source": [
    "# bike_df.map.to.csv('./data/bike_20230907.csv', index=False)\n",
    "bike_df_map = pd.read_csv('./data/bike_20230907.csv', encoding='cp949')\n",
    "bike_df_map"
   ]
  },
  {
   "cell_type": "code",
   "execution_count": null,
   "id": "c99bf776",
   "metadata": {},
   "outputs": [],
   "source": [
    "bike_df_map[bike_df_map.dong.isnull() | bike_df_map.dong.isnull()]"
   ]
  },
  {
   "cell_type": "code",
   "execution_count": null,
   "id": "1b4c130f",
   "metadata": {},
   "outputs": [],
   "source": [
    "bike_df_map[bike_df_map.goo.isnull() | bike_df_map.dong.isnull()].stationId"
   ]
  },
  {
   "cell_type": "code",
   "execution_count": null,
   "id": "ef8a71af",
   "metadata": {},
   "outputs": [],
   "source": [
    "errorList = list(bike_df_map[bike_df_map.goo.isnull() | bike_df_map.dong.isnull()].stationId)\n",
    "print(type(errorList)) # list\n",
    "print(errorList) "
   ]
  },
  {
   "cell_type": "code",
   "execution_count": null,
   "id": "e563a555",
   "metadata": {},
   "outputs": [],
   "source": [
    "for error in errorList:\n",
    "    bike_error = bike_df_map[bike_df_map.stationId == error]\n",
    "    lat_lot = '{},{}'.format(bike_error.iloc[0, 3], bike_error.iloc[0, 2])\n",
    "    # print(bike_error, lat_lot)\n",
    "    \n",
    "    address = geocoding_reverse(lat_lot)\n",
    "    addr = str(address).split(', ')\n",
    "    # print(addr)\n",
    "    bike_df_map.loc[bike_error.index, 'goo'] = addr[-3]\n",
    "    bike_df_map.loc[bike_error.index, 'dong'] = addr[-4]\n",
    "bike_df_map[bike_df_map[bike_df_map.goo.isnull() | bike_df_map.dong.isnull()]"
   ]
  },
  {
   "cell_type": "code",
   "execution_count": null,
   "id": "0b3b91d2",
   "metadata": {},
   "outputs": [],
   "source": [
    "# bike_df.map.to.csv('./data/bike_20230907.csv', index=False)"
   ]
  },
  {
   "cell_type": "code",
   "execution_count": null,
   "id": "3ca1a4c2",
   "metadata": {
    "scrolled": true
   },
   "outputs": [],
   "source": [
    "bike_map = folium.Map(location=[bike_df_map.stationLatitude.mean(), bike_df_map.stationLongitude.mean()], zoom_start=13)\n",
    "for index, data in bike_df_map.iterrows():\n",
    "    station = data.stationName.split('.')\n",
    "    if len(station) == 1:\n",
    "        stationName = station[0].strip()\n",
    "    else:\n",
    "        stationName = station[1].strip()\n",
    "    # if절을 삼항연산자 사용해서 한 줄로 줄일 수 있다.\n",
    "    # stationName = station[0].strip() if len(station) == 1 else station[1].strip()\n",
    "\n",
    "    string = '{}. 일반: {}대, 새싹: {}대'.format(stationName, data.parkingQRBikeCnt, data.parkingELECBikeCnt)\n",
    "    # print(string)\n",
    "    stationInfo = folium.Popup(string, max_width=300)\n",
    "    folium.Marker(location=[data.stationLatitude, data.stationLongitude], popup=stationInfo,\n",
    "                 icon=folium.Icon(color='green', icon='hand-down')).add_to(bike_map)\n",
    "bike_map.save('./output/bike.html')\n",
    "bike_map"
   ]
  },
  {
   "cell_type": "markdown",
   "id": "9ee87214",
   "metadata": {},
   "source": [
    "종로구 따릉이 스테이션 위치"
   ]
  },
  {
   "cell_type": "code",
   "execution_count": null,
   "id": "63aba570",
   "metadata": {},
   "outputs": [],
   "source": [
    "bike_df_map_goo = bike_df_map[bike_df_map.goo == '종로구']\n",
    "bike_df_map_goo"
   ]
  },
  {
   "cell_type": "code",
   "execution_count": null,
   "id": "8589afc3",
   "metadata": {},
   "outputs": [],
   "source": [
    "bike_map = folium.Map(location=[bike_df_map_goo.stationLatitude.mean(), bike_df_map_goo.stationLongitude.mean()], zoom_start=14)\n",
    "for index, data in bike_df_map_goo.iterrows():\n",
    "    station = data.stationName.split('.')\n",
    "    stationName = station[0].strip() if len(station) == 1 else station[1].strip()\n",
    "\n",
    "    string = '{}. 일반: {}대, 새싹: {}대'.format(stationName, data.parkingQRBikeCnt, data.parkingELECBikeCnt)\n",
    "    stationInfo = folium.Popup(string, max_width=300)\n",
    "    folium.Marker(location=[data.stationLatitude, data.stationLongitude], popup=stationInfo,\n",
    "                 icon=folium.Icon(color='green', icon='hand-down')).add_to(bike_map)\n",
    "bike_map.save('./output/bike.map.html')\n",
    "bike_map"
   ]
  },
  {
   "cell_type": "code",
   "execution_count": null,
   "id": "9279f78c",
   "metadata": {},
   "outputs": [],
   "source": []
  },
  {
   "cell_type": "code",
   "execution_count": null,
   "id": "83aca7ef",
   "metadata": {},
   "outputs": [],
   "source": []
  },
  {
   "cell_type": "code",
   "execution_count": null,
   "id": "bf5fa165",
   "metadata": {},
   "outputs": [],
   "source": []
  },
  {
   "cell_type": "code",
   "execution_count": null,
   "id": "959f408e",
   "metadata": {},
   "outputs": [],
   "source": []
  },
  {
   "cell_type": "code",
   "execution_count": null,
   "id": "0b5088e8",
   "metadata": {},
   "outputs": [],
   "source": []
  },
  {
   "cell_type": "code",
   "execution_count": null,
   "id": "e63d7579",
   "metadata": {},
   "outputs": [],
   "source": []
  },
  {
   "cell_type": "code",
   "execution_count": null,
   "id": "7deb876b",
   "metadata": {},
   "outputs": [],
   "source": []
  },
  {
   "cell_type": "code",
   "execution_count": null,
   "id": "86e540e4",
   "metadata": {},
   "outputs": [],
   "source": []
  },
  {
   "cell_type": "code",
   "execution_count": null,
   "id": "5a89bac9",
   "metadata": {},
   "outputs": [],
   "source": []
  },
  {
   "cell_type": "code",
   "execution_count": null,
   "id": "3fb08c3d",
   "metadata": {},
   "outputs": [],
   "source": []
  },
  {
   "cell_type": "code",
   "execution_count": null,
   "id": "86af3b5c",
   "metadata": {},
   "outputs": [],
   "source": []
  },
  {
   "cell_type": "code",
   "execution_count": null,
   "id": "69b45220",
   "metadata": {},
   "outputs": [],
   "source": []
  },
  {
   "cell_type": "code",
   "execution_count": null,
   "id": "3df16395",
   "metadata": {},
   "outputs": [],
   "source": []
  },
  {
   "cell_type": "code",
   "execution_count": null,
   "id": "6b9484a4",
   "metadata": {},
   "outputs": [],
   "source": []
  }
 ],
 "metadata": {
  "kernelspec": {
   "display_name": "Python 3",
   "language": "python",
   "name": "python3"
  },
  "language_info": {
   "codemirror_mode": {
    "name": "ipython",
    "version": 3
   },
   "file_extension": ".py",
   "mimetype": "text/x-python",
   "name": "python",
   "nbconvert_exporter": "python",
   "pygments_lexer": "ipython3",
   "version": "3.6.8"
  }
 },
 "nbformat": 4,
 "nbformat_minor": 5
}
