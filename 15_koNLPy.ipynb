{
 "cells": [
  {
   "cell_type": "markdown",
   "id": "fa133c45",
   "metadata": {},
   "source": [
    "형태소 분석(morphological Analysis)  \n",
    "\n",
    "형태소 분석은 자연 언어의 문장을 형태소라는 최소 단위로 분할하고 품사를 판별하는 작업이다.  \n",
    "영문 형태소 분석은 형태소마다 띄어쓰기를 해서 문장을 구성하는 것이 기본이기 때문에 크게 어렵지 않으나 아시아 계열 언어 분석에는 많은 노력이 필요하다.  \n",
    "대표적으로 문법 규칙에 의한 방법과 확률적 언어 모델을 사용하는 방법이 있는데 최근에 확률적 언어 모델을 사용한 형태소 분석이 많아서 정밀도가 높아졌다.  \n",
    "즉, 두가지 품사 사전과 문법 사전을 기반으로 대조하면서 형태소를 분석한다.  \n",
    "\n",
    "한국어 형태소 분석 라이브러리 => KoNLPy => pip install konlpy => java 1.7 이상의 버전이 미리 설치되어 있어야 한다.  \n",
    "KoNLPy에는 대한민국 헌법 말뭉치 kolaw와 국회 법안 말뭉치인 kobill을 제공한다.  "
   ]
  },
  {
   "cell_type": "code",
   "execution_count": null,
   "id": "7aa3769b",
   "metadata": {},
   "outputs": [],
   "source": [
    "# pip install konlpy\n",
    "from konlpy.corpus import kolaw, kobill\n",
    "# 각 말뭉치가 포함하고 있는 텍스트 파일 이름은 fileids() 메소드로 확인할 수 있다.\n",
    "print(kolaw.fileids())\n",
    "print(kobill.fileids())"
   ]
  },
  {
   "cell_type": "code",
   "execution_count": null,
   "id": "4ee53426",
   "metadata": {},
   "outputs": [],
   "source": [
    "# 말뭉치 파일을 읽어들이려면 말뭉치에 포함된 텍스트 파일을 open() 메소드로 열고 read() 메소드로 읽는다.\n",
    "corpus1 = kolaw.open('constitution.txt').read()\n",
    "print(corpus1[:40])"
   ]
  },
  {
   "cell_type": "code",
   "execution_count": null,
   "id": "353ee5a4",
   "metadata": {},
   "outputs": [],
   "source": [
    "corpus2 = kobill.open('1809890.txt').read()\n",
    "print(corpus2[:40])"
   ]
  },
  {
   "cell_type": "markdown",
   "id": "87b5580c",
   "metadata": {},
   "source": [
    "KoNLPy는 다음과 같은 다양한 형태소 분석, 태깅 라이브러리를 파이썬에서 쉽게 사용할 수 있도록 모아놓았다.  \n",
    "Hannanum: 한나눔. KAIST Semantic Web Research Center 개발.  \n",
    "http://semanticweb.kaist.ac.kr/hannanum/  \n",
    "Kkma: 꼬꼬마. 서울대학교 IDS(Intelligent Data Systems) 연구실 개발.  \n",
    "http://kkma.snu.ac.kr/  \n",
    "Komoran: 코모란. Shineware에서 개발.  \n",
    "https://github.com/shin285/KOMORAN  \n",
    "Mecab: 메카브. 일본어용 형태소 분석기를 한국어를 사용할 수 있도록 수정.  \n",
    "https://bitbucket.org/eunjeon/mecab-ko  \n",
    "Open Korean Text: 오픈 소스 한국어 분석기. 과거 트위터 형태소 분석기.  \n",
    "https://github.com/open-korean-text/open-korean-text  "
   ]
  },
  {
   "cell_type": "code",
   "execution_count": null,
   "id": "4a5ddf7e",
   "metadata": {},
   "outputs": [],
   "source": [
    "# https://www.lfd.uci.edu/~gohlke/pythonlibs/#jpype에 접속해서 사용하는 python의 JPype를 다운받는다.\n",
    "# 강사 컴퓨터에는 python 3.6.x 버전이 설치되어서 JPype1‑1.2.0‑cp36‑cp36m‑win_amd64.whl를 다운받았다.\n",
    "# 파일이 다운로드된 폴더로 이동해서 커맨드 창을 실행한다.\n",
    "# pip install JPype1-1.2.0-cp36-cp36m-win_amd64.whl를 실행해서 설치한다.\n",
    "# permission 어쩌고 저쩌고 에러가 발생되면 아래와 같이 실행해서 설치한다.\n",
    "# python -m pip install --user JPype1-1.2.0-cp36-cp36m-win_amd64.whl"
   ]
  },
  {
   "cell_type": "code",
   "execution_count": null,
   "id": "e41bc06a",
   "metadata": {},
   "outputs": [],
   "source": [
    "from konlpy.tag import *"
   ]
  },
  {
   "cell_type": "code",
   "execution_count": null,
   "id": "0b52ad35",
   "metadata": {},
   "outputs": [],
   "source": [
    "hannanum = Hannanum()\n",
    "kkma = Kkma()\n",
    "komoran = Komoran()\n",
    "okt = Okt()\n",
    "# mecab = Mecab() # 윈도우에서 지원하지 않는다.\n",
    "\n",
    "# 이 클래스들은 다음과 같은 메소드를 공통으로 지원한다.\n",
    "# nouns: 명사 추출\n",
    "# morphs: 형태소 추출\n",
    "# pos: 품사 부착"
   ]
  },
  {
   "cell_type": "markdown",
   "id": "652eeabc",
   "metadata": {},
   "source": [
    "명사 추출"
   ]
  },
  {
   "cell_type": "code",
   "execution_count": null,
   "id": "918286c6",
   "metadata": {},
   "outputs": [],
   "source": [
    "hannanum.nouns(corpus1[:40])"
   ]
  },
  {
   "cell_type": "code",
   "execution_count": null,
   "id": "d519efcb",
   "metadata": {},
   "outputs": [],
   "source": [
    "kkma.nouns(corpus1[:40])"
   ]
  },
  {
   "cell_type": "code",
   "execution_count": null,
   "id": "c3511b99",
   "metadata": {},
   "outputs": [],
   "source": [
    "komoran.nouns(corpus1[:40])"
   ]
  },
  {
   "cell_type": "code",
   "execution_count": null,
   "id": "0feeeb56",
   "metadata": {},
   "outputs": [],
   "source": [
    "okt.nouns(corpus1[:40])"
   ]
  },
  {
   "cell_type": "code",
   "execution_count": null,
   "id": "02224556",
   "metadata": {},
   "outputs": [],
   "source": [
    "kkma.morphs(corpus1[:40])"
   ]
  },
  {
   "cell_type": "code",
   "execution_count": null,
   "id": "17fd7837",
   "metadata": {},
   "outputs": [],
   "source": [
    "okt.morphs(corpus1[:40])"
   ]
  },
  {
   "cell_type": "markdown",
   "id": "54fe07e8",
   "metadata": {},
   "source": [
    "품사 부착  \n",
    "\n",
    "형태소 분석기마다 사용하는 품사 태그가 다르므로 각 형태소 분석기에 대한 문서를 참조한다.  \n",
    "부착되는 품사 태그와 기호의 의미는 target 속성으로 확인할 수 있다.  "
   ]
  },
  {
   "cell_type": "code",
   "execution_count": null,
   "id": "efde58ad",
   "metadata": {},
   "outputs": [],
   "source": [
    "hannanum.pos(corpus1[:40])"
   ]
  },
  {
   "cell_type": "code",
   "execution_count": null,
   "id": "4d243ce3",
   "metadata": {},
   "outputs": [],
   "source": [
    "hannanum.tagset"
   ]
  },
  {
   "cell_type": "code",
   "execution_count": null,
   "id": "1be3a2a2",
   "metadata": {},
   "outputs": [],
   "source": [
    "kkma.pos(corpus1[:40])"
   ]
  },
  {
   "cell_type": "code",
   "execution_count": null,
   "id": "d7116b81",
   "metadata": {},
   "outputs": [],
   "source": [
    "kkma.tagset"
   ]
  },
  {
   "cell_type": "code",
   "execution_count": null,
   "id": "40e990ff",
   "metadata": {},
   "outputs": [],
   "source": [
    "komoran.pos(corpus1[:40])"
   ]
  },
  {
   "cell_type": "code",
   "execution_count": null,
   "id": "25009f2e",
   "metadata": {},
   "outputs": [],
   "source": [
    "komoran.tagset"
   ]
  },
  {
   "cell_type": "code",
   "execution_count": null,
   "id": "feee1e0d",
   "metadata": {},
   "outputs": [],
   "source": [
    "okt.pos(corpus1[:40])"
   ]
  },
  {
   "cell_type": "code",
   "execution_count": null,
   "id": "073961e9",
   "metadata": {},
   "outputs": [],
   "source": [
    "okt.tagset"
   ]
  },
  {
   "cell_type": "code",
   "execution_count": null,
   "id": "696abd4c",
   "metadata": {},
   "outputs": [],
   "source": [
    "txt = '아버지가방에들어가신다'\n",
    "okt.pos(txt)"
   ]
  },
  {
   "cell_type": "code",
   "execution_count": null,
   "id": "90949cfd",
   "metadata": {},
   "outputs": [],
   "source": [
    "okt.pos('이것도되나욬ㅋㅋㅋㅋㅋ')"
   ]
  },
  {
   "cell_type": "code",
   "execution_count": null,
   "id": "90e0d2b4",
   "metadata": {},
   "outputs": [],
   "source": [
    "# norm=True: 품사 태깅(기본값은 False)\n",
    "okt.pos('이것도되나욬ㅋㅋㅋㅋㅋ', norm=True)"
   ]
  },
  {
   "cell_type": "code",
   "execution_count": null,
   "id": "4ab1c38f",
   "metadata": {},
   "outputs": [],
   "source": [
    "# stem=True: 원형 글자로 바꿔준다. (기본값은 False)\n",
    "okt.pos('이것도되나욬ㅋㅋㅋㅋㅋ', stem=True)"
   ]
  },
  {
   "cell_type": "code",
   "execution_count": null,
   "id": "8e2125e7",
   "metadata": {},
   "outputs": [],
   "source": [
    "okt.morphs(txt)"
   ]
  },
  {
   "cell_type": "code",
   "execution_count": null,
   "id": "284b2e11",
   "metadata": {},
   "outputs": [],
   "source": [
    "okt.nouns(txt)"
   ]
  },
  {
   "cell_type": "code",
   "execution_count": null,
   "id": "65f51e3d",
   "metadata": {},
   "outputs": [],
   "source": []
  },
  {
   "cell_type": "code",
   "execution_count": null,
   "id": "7a2256d4",
   "metadata": {},
   "outputs": [],
   "source": []
  },
  {
   "cell_type": "code",
   "execution_count": null,
   "id": "ca3f27ff",
   "metadata": {},
   "outputs": [],
   "source": []
  },
  {
   "cell_type": "code",
   "execution_count": null,
   "id": "9ee14e17",
   "metadata": {},
   "outputs": [],
   "source": []
  }
 ],
 "metadata": {
  "kernelspec": {
   "display_name": "Python 3",
   "language": "python",
   "name": "python3"
  },
  "language_info": {
   "codemirror_mode": {
    "name": "ipython",
    "version": 3
   },
   "file_extension": ".py",
   "mimetype": "text/x-python",
   "name": "python",
   "nbconvert_exporter": "python",
   "pygments_lexer": "ipython3",
   "version": "3.6.8"
  }
 },
 "nbformat": 4,
 "nbformat_minor": 5
}
