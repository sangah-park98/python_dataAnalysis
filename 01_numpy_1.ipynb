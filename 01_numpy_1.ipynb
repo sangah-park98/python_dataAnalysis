{
 "cells": [
  {
   "cell_type": "code",
   "execution_count": 1,
   "id": "f9a6ebb3",
   "metadata": {},
   "outputs": [],
   "source": [
    "# jupyter notebook 경고 메시지 숨기기\n",
    "# jupyter notebook를 사용하다 보면 향후 버전이 올라갈 때 변경될 사항을 알려주는 경고 메시지가 거슬릴 때가 있다.\n",
    "# 이럴 때, warnings 라이브러리를 사용한다.\n",
    "import warnings\n",
    "warnings.filterwarnings('ignore') # 경고 메시지를 무시하고 숨긴다.\n",
    "# warnings.filterwarnings('default') # 경고 메시지를 다시 표시한다."
   ]
  },
  {
   "cell_type": "code",
   "execution_count": 2,
   "id": "68b8dfe0",
   "metadata": {},
   "outputs": [],
   "source": [
    "# numpy는 다음과 같은 데이터 타입을 지원한다. 배열을 만들 때 dtype 속성으로 데이터 타입을 지정할 수 있다.\n",
    "# np.int64: 64비트 정수(고정 소숫점) 타입\n",
    "# np.float32: 32비트 실수(부동 소숫점) 타입\n",
    "# np.complex: 복소수 타입\n",
    "# np.bool: 불린(논리값) 타입\n",
    "# np.object: 파이썬 객체 타입\n",
    "# np.string_: 스트링 타입\n",
    "# np.unicode_: 유니코드 타입"
   ]
  },
  {
   "cell_type": "code",
   "execution_count": 3,
   "id": "8dc4f43c",
   "metadata": {},
   "outputs": [
    {
     "name": "stdout",
     "output_type": "stream",
     "text": [
      "1.19.5\n"
     ]
    }
   ],
   "source": [
    "import numpy as np\n",
    "print(np.__version__) # __version__: 라이브러리의 버전을 얻어온다."
   ]
  },
  {
   "cell_type": "code",
   "execution_count": 4,
   "id": "49fdf6be",
   "metadata": {},
   "outputs": [],
   "source": [
    "# numpy는 다차원 배열을 지원하고 numpy 배열의 구조는 shape으로 표현한다.\n",
    "# shape은 배열의 구조를 튜플 자료형을 사용해서 정의한다.\n",
    "# 예를 들어 28 * 28 컬러 사진은 폭이 28px, 높이 28px, 각 픽셀은 3개의 채널(RGB)로 구성된 구조를 가진다.\n",
    "# 따라서 컬러 사진의 데이터 구조는 shape(28, 28, 3)인 3차원 배열이 된다.\n",
    "# 다차원 배열은 입체적인 구조를 가지며 데이터의 차원은 여러 갈래의 데이터 방향(axis)을 가진다.\n",
    "# 3차원 배열의 데이터 방향은 면은 axis=0, 행은 axis=1, 열은 axis=2로 지정한다."
   ]
  },
  {
   "cell_type": "code",
   "execution_count": 5,
   "id": "16535ff2",
   "metadata": {},
   "outputs": [],
   "source": [
    "# numpy 배열 객체 정보 출력용으로 사용할 함수 선언\n",
    "def pprint(arr):\n",
    "    print('type: {}'.format(type(arr)))\n",
    "    print('shape: {}, dimension: {}, dtype: {}'.format(arr.shape, arr.ndim, arr.dtype))\n",
    "    print('numpy 배열의 데이터\\n', arr, sep='')"
   ]
  },
  {
   "cell_type": "markdown",
   "id": "97546632",
   "metadata": {},
   "source": [
    "파이썬 list 객체로 numpy 배열을 생성할 수 있다.  \n",
    "인수로 list 객체와 데이터 타입(dtype, 생략 가능)을 입력해서 numpy 배열을 생성하고 dtype을 생략하면 인수로 넘어오는 list 객체의 데이터 타입으로 dtype이 설정된다."
   ]
  },
  {
   "cell_type": "code",
   "execution_count": 6,
   "id": "23141969",
   "metadata": {
    "scrolled": true
   },
   "outputs": [
    {
     "name": "stdout",
     "output_type": "stream",
     "text": [
      "<class 'list'>\n",
      "[1, 2, 3]\n",
      "--------------------------------------------------\n",
      "type: <class 'numpy.ndarray'>\n",
      "shape: (3,), dimension: 1, dtype: int32\n",
      "numpy 배열의 데이터\n",
      "[1 2 3]\n"
     ]
    }
   ],
   "source": [
    "# 파이썬 1차원 list로 numpy 배열 만들기\n",
    "arr = [1, 2, 3]\n",
    "print(type(arr))\n",
    "print(arr)\n",
    "print('-' * 50)\n",
    "\n",
    "# array() 메소드는 인수로 list 객체를 넘겨받아 numpy 배열을 만든다.\n",
    "# 정수형 데이터의 dtype 기본값은 np.int이고 32비트 정수 데이터를 의미한다. => np.int32와 같다.\n",
    "# 정수형 데이터의 dtype은 np.int, np.int8, np.int16, np.int32, np.int64를 사용할 수 있다.\n",
    "# a = np.array(arr, dtype=np.int)\n",
    "a = np.array(arr)\n",
    "pprint(a)\n"
   ]
  },
  {
   "cell_type": "code",
   "execution_count": 7,
   "id": "92012a60",
   "metadata": {},
   "outputs": [
    {
     "name": "stdout",
     "output_type": "stream",
     "text": [
      "<class 'list'>\n",
      "[1, 2.0, 3]\n",
      "--------------------------------------------------\n",
      "type: <class 'numpy.ndarray'>\n",
      "shape: (3,), dimension: 1, dtype: int32\n",
      "numpy 배열의 데이터\n",
      "[1 2 3]\n"
     ]
    }
   ],
   "source": [
    "arr = [1, 2., 3]\n",
    "print(type(arr))\n",
    "print(arr)\n",
    "print('-' * 50)\n",
    "\n",
    "# 실수형 데이터의 dtype 기본값은 np.float이고 64비트 실수 데이터를 의미한다. => np.int64와 같다.\n",
    "# 정수형 데이터의 dtype은 np.float, np.float16, np.float32, np.float64를 사용할 수 있다.\n",
    "\n",
    "a = np.array(arr, dtype=np.int)\n",
    "pprint(a)"
   ]
  },
  {
   "cell_type": "code",
   "execution_count": 8,
   "id": "3b2dce09",
   "metadata": {},
   "outputs": [
    {
     "name": "stdout",
     "output_type": "stream",
     "text": [
      "<class 'list'>\n",
      "[[1, 2, 3], [4, 5, 6]]\n",
      "--------------------------------------------------\n",
      "type: <class 'numpy.ndarray'>\n",
      "shape: (2, 3), dimension: 2, dtype: float64\n",
      "numpy 배열의 데이터\n",
      "[[1. 2. 3.]\n",
      " [4. 5. 6.]]\n"
     ]
    }
   ],
   "source": [
    "# 파이썬 2차원 list로 numpy 배열 만들기\n",
    "arr = [[1, 2, 3], [4, 5, 6]]\n",
    "print(type(arr))\n",
    "print(arr)\n",
    "print('-' * 50)\n",
    "\n",
    "a= np.array(arr, dtype=np.float)\n",
    "pprint(a)"
   ]
  },
  {
   "cell_type": "code",
   "execution_count": 9,
   "id": "1812590e",
   "metadata": {},
   "outputs": [
    {
     "name": "stdout",
     "output_type": "stream",
     "text": [
      "<class 'list'>\n",
      "[[[1, 2, 3], [4, 5, 6], [11, 22, 33], [44, 55, 66]]]\n",
      "--------------------------------------------------\n",
      "type: <class 'numpy.ndarray'>\n",
      "shape: (1, 4, 3), dimension: 3, dtype: int32\n",
      "numpy 배열의 데이터\n",
      "[[[ 1  2  3]\n",
      "  [ 4  5  6]\n",
      "  [11 22 33]\n",
      "  [44 55 66]]]\n"
     ]
    }
   ],
   "source": [
    "# 파이썬 3차원 list로 numpy 배열 만들기\n",
    "arr = [[[1, 2, 3], [4, 5, 6], [11, 22, 33], [44, 55, 66]]]\n",
    "print(type(arr))\n",
    "print(arr)\n",
    "print('-' * 50)\n",
    "\n",
    "a= np.array(arr)\n",
    "pprint(a)"
   ]
  },
  {
   "cell_type": "markdown",
   "id": "48ffbc5c",
   "metadata": {},
   "source": [
    "numpy는 원하는 shape으로 배열을 생성하고 각 요소들을 특정값으로 초기화시키는 메소드를 제공한다."
   ]
  },
  {
   "cell_type": "code",
   "execution_count": 10,
   "id": "93c7021d",
   "metadata": {},
   "outputs": [
    {
     "name": "stdout",
     "output_type": "stream",
     "text": [
      "type: <class 'numpy.ndarray'>\n",
      "shape: (3, 4), dimension: 2, dtype: int32\n",
      "numpy 배열의 데이터\n",
      "[[0 0 0 0]\n",
      " [0 0 0 0]\n",
      " [0 0 0 0]]\n"
     ]
    }
   ],
   "source": [
    "# zeros() 메소드는 지정된 shape 만큼의 배열을 생성하고 모든 요소를 0으로 초기화시킨다. => 영행렬\n",
    "# zeros(shape[, dtype, order]) # dtype, order는 생략 가능하다.\n",
    "# order => 2차원 이상의 배열일 경우 데이터가 채워지는 방식을 지정한다.\n",
    "# c, c++, java, c#, python => 행 우선 방식 / fortran => 열 우선 방식(fortran은 쓸 일 거의 X)\n",
    "# a = np.zeros(shape=(3, 4)) # dtype을 생략하면 np.float64로 배열이 만들어진다.\n",
    "# a = np.zeros(shape=(3, 4), dtype=np.int) # dtype을 지정하면 지정된 dtype으로 배열이 만들어진다.\n",
    "a = np.zeros(shape=(3, 4), dtype=np.int, order='f') # fortran을 사용한 열 우선 방식 지정\n",
    "pprint(a)"
   ]
  },
  {
   "cell_type": "code",
   "execution_count": 11,
   "id": "74a412b4",
   "metadata": {},
   "outputs": [
    {
     "name": "stdout",
     "output_type": "stream",
     "text": [
      "type: <class 'numpy.ndarray'>\n",
      "shape: (3, 4), dimension: 2, dtype: int32\n",
      "numpy 배열의 데이터\n",
      "[[1 1 1 1]\n",
      " [1 1 1 1]\n",
      " [1 1 1 1]]\n"
     ]
    }
   ],
   "source": [
    "# ones() 메소드는 지정된 shape만큼의 배열을 생성하고 모든 요소를 1로 초기화시킨다.\n",
    "# ones(shape[, dtype, order])\n",
    "a = np.ones(shape=(3, 4), dtype=np.int)\n",
    "pprint(a)"
   ]
  },
  {
   "cell_type": "code",
   "execution_count": 12,
   "id": "a9444bab",
   "metadata": {},
   "outputs": [
    {
     "name": "stdout",
     "output_type": "stream",
     "text": [
      "type: <class 'numpy.ndarray'>\n",
      "shape: (3, 4), dimension: 2, dtype: int32\n",
      "numpy 배열의 데이터\n",
      "[[7 7 7 7]\n",
      " [7 7 7 7]\n",
      " [7 7 7 7]]\n"
     ]
    }
   ],
   "source": [
    "# full() 메소드는 지정된 shape만큼의 배열을 생성하고 모든 요소를 특정값으로 초기화시킨다.\n",
    "# full(shape, fill_value[, dtype, order])\n",
    "a = np.full(shape=(3, 4), fill_value=7, dtype=np.int)\n",
    "pprint(a)"
   ]
  },
  {
   "cell_type": "code",
   "execution_count": 13,
   "id": "5f7ad427",
   "metadata": {},
   "outputs": [
    {
     "name": "stdout",
     "output_type": "stream",
     "text": [
      "type: <class 'numpy.ndarray'>\n",
      "shape: (5, 5), dimension: 2, dtype: int32\n",
      "numpy 배열의 데이터\n",
      "[[1 0 0 0 0]\n",
      " [0 1 0 0 0]\n",
      " [0 0 1 0 0]\n",
      " [0 0 0 1 0]\n",
      " [0 0 0 0 1]]\n"
     ]
    }
   ],
   "source": [
    "# eye() 메소드는 지정된 shape만큼의 크기를 가지는 단위 행렬(주 대각 요소만 1이고 나머지는 0인 행렬)을 만든다.\n",
    "# eye(n [, dtype])\n",
    "a = np.eye(5, dtype=np.int)\n",
    "pprint(a)"
   ]
  },
  {
   "cell_type": "code",
   "execution_count": 14,
   "id": "16552dd4",
   "metadata": {},
   "outputs": [
    {
     "name": "stdout",
     "output_type": "stream",
     "text": [
      "type: <class 'numpy.ndarray'>\n",
      "shape: (3, 2), dimension: 2, dtype: int32\n",
      "numpy 배열의 데이터\n",
      "[[1758067088        478]\n",
      " [         0          0]\n",
      " [         1 1852142194]]\n"
     ]
    }
   ],
   "source": [
    "# empty() 메소드는 지정된 shape 만큼의 배열을 만들기만 하고 초기화를 하지 않는다. => 쓰레기가 저장된다.\n",
    "# empty(shape[, dtype, order])\n",
    "a = np.empty(shape=(3, 2), dtype=np.int)\n",
    "pprint(a)"
   ]
  },
  {
   "cell_type": "markdown",
   "id": "65dfdb44",
   "metadata": {},
   "source": [
    "like 메소드  \n",
    "numpy는 인수로 지정한 배열과 shape이 같은 배열을 만드는 like 메소드를 제공한다.  \n",
    "zeros_like(), ones_like(), full_like(), empty_like()"
   ]
  },
  {
   "cell_type": "code",
   "execution_count": 15,
   "id": "1454238f",
   "metadata": {},
   "outputs": [
    {
     "name": "stdout",
     "output_type": "stream",
     "text": [
      "[[1 2 3]\n",
      " [4 5 6]]\n",
      "[[0 0 0]\n",
      " [0 0 0]]\n",
      "[[1 1 1]\n",
      " [1 1 1]]\n",
      "[[9 9 9]\n",
      " [9 9 9]]\n",
      "[[     29042    7107072 1282539520]\n",
      " [1912602624        142 1483867177]]\n"
     ]
    }
   ],
   "source": [
    "a = np.array([[1, 2, 3], [4, 5, 6]])\n",
    "print(a)\n",
    "b = np.zeros_like(a)\n",
    "print(b)\n",
    "c = np.ones_like(a)\n",
    "print(c)\n",
    "d = np.full_like(a, fill_value=9)\n",
    "print(d)\n",
    "e = np.empty_like(a)\n",
    "print(e)"
   ]
  },
  {
   "cell_type": "code",
   "execution_count": 16,
   "id": "16fc23c3",
   "metadata": {},
   "outputs": [],
   "source": [
    "import matplotlib.pyplot as plt # 시각화 라이브러리 import\n",
    "# %matplotlib notebook"
   ]
  },
  {
   "cell_type": "markdown",
   "id": "370cb12e",
   "metadata": {},
   "source": [
    "데이터 생성 메소드  \n",
    "numpy는 주어진 조건으로 데이터를 생성한 후 배열을 만드는 데이터 생성 메소드를 제공한다.  \n",
    "linspace(), arrange(), logspace()"
   ]
  },
  {
   "cell_type": "code",
   "execution_count": 17,
   "id": "983e2b48",
   "metadata": {},
   "outputs": [
    {
     "name": "stdout",
     "output_type": "stream",
     "text": [
      "type: <class 'numpy.ndarray'>\n",
      "shape: (5,), dimension: 1, dtype: float64\n",
      "numpy 배열의 데이터\n",
      "[0.   0.25 0.5  0.75 1.  ]\n"
     ]
    }
   ],
   "source": [
    "# linspace() 메소드는 start부터 stop의 범위에서 num개를 균일한 간격으로 데이터를 생성하고 배열을 만든다.\n",
    "# linspace(start, stop, num)\n",
    "a = np.linspace(0, 1, 5)\n",
    "pprint(a)"
   ]
  },
  {
   "cell_type": "code",
   "execution_count": 18,
   "id": "87075a16",
   "metadata": {
    "scrolled": false
   },
   "outputs": [
    {
     "data": {
      "image/png": "[encoded data removed]",
      "text/plain": [
       "<Figure size 576x432 with 1 Axes>"
      ]
     },
     "metadata": {
      "needs_background": "light"
     },
     "output_type": "display_data"
    }
   ],
   "source": [
    "plt.figure(figsize=(8,6)) # 차트 사이즈 변경\n",
    "plt.plot(a, 'oc--')\n",
    "# plt.plot을 실행했을 때 나오는 Out [<matplotlib.lines.Line2D at 0x2a30e417390>]이 안 나오게 하려면 show()를 사용한다.\n",
    "plt.show()"
   ]
  },
  {
   "cell_type": "code",
   "execution_count": 20,
   "id": "9027d64f",
   "metadata": {},
   "outputs": [
    {
     "name": "stdout",
     "output_type": "stream",
     "text": [
      "type: <class 'numpy.ndarray'>\n",
      "shape: (5,), dimension: 1, dtype: float32\n",
      "numpy 배열의 데이터\n",
      "[0. 2. 4. 6. 8.]\n"
     ]
    }
   ],
   "source": [
    "# arange() 메소드는 start부터 stop 미만까지 step 간격으로 데이터를 생성하고 배열을 만든다.\n",
    "# arrange([start, ]stop[, step, dtype])\n",
    "# linspace() 메소드는 요소의 개수를 지정해 배열을 만들지만 arrange() 메소드는 요소의 개수가 아닌 데이터의 간격을\n",
    "# 기준으로 균등한 간격의 배열을 만든다.\n",
    "# start를 생략하면 0, step을 생략하면 1이 기본값으로 사용된다.\n",
    "# arange(10), arange(0, 10), arange(0, 10, 1)은 모두 같은 기능이 실행된다.\n",
    "a = np.arange(0, 10, 2, dtype=np.float32)\n",
    "pprint(a)"
   ]
  },
  {
   "cell_type": "code",
   "execution_count": 24,
   "id": "d7603105",
   "metadata": {},
   "outputs": [
    {
     "data": {
      "image/png": "[encoded data removed]",
      "text/plain": [
       "<Figure size 576x432 with 1 Axes>"
      ]
     },
     "metadata": {
      "needs_background": "light"
     },
     "output_type": "display_data"
    }
   ],
   "source": [
    "plt.figure(figsize=(8,6)) # 차트 사이즈 변경\n",
    "plt.plot(a, 'r-')\n",
    "# plt.plot을 실행했을 때 나오는 Out [<matplotlib.lines.Line2D at 0x2a30e417390>]이 안 나오게 하려면 show()를 사용한다.\n",
    "plt.show()"
   ]
  },
  {
   "cell_type": "code",
   "execution_count": 43,
   "id": "fd694979",
   "metadata": {},
   "outputs": [
    {
     "name": "stdout",
     "output_type": "stream",
     "text": [
      "type: <class 'numpy.ndarray'>\n",
      "shape: (100,), dimension: 1, dtype: float64\n",
      "numpy 배열의 데이터\n",
      "[   2.            2.13008218    2.26862504    2.41617889    2.5733298\n",
      "    2.74070197    2.91896021    3.10881256    3.31101312    3.52636502\n",
      "    3.75572364    4.            4.26016436    4.53725009    4.83235778\n",
      "    5.14665959    5.48140394    5.83792042    6.21762513    6.62202624\n",
      "    7.05273004    7.51144729    8.            8.52032872    9.07450018\n",
      "    9.66471556   10.29331918   10.96280788   11.67584085   12.43525025\n",
      "   13.24405248   14.10546008   15.02289457   16.           17.04065743\n",
      "   18.14900036   19.32943111   20.58663837   21.92561576   23.35168169\n",
      "   24.87050051   26.48810496   28.21092016   30.04578914   32.\n",
      "   34.08131486   36.29800071   38.65886222   41.17327674   43.85123151\n",
      "   46.70336338   49.74100102   52.97620991   56.42184032   60.09157828\n",
      "   64.           68.16262972   72.59600142   77.31772444   82.34655347\n",
      "   87.70246302   93.40672676   99.48200203  105.95241983  112.84368064\n",
      "  120.18315656  128.          136.32525945  145.19200284  154.63544888\n",
      "  164.69310695  175.40492604  186.81345353  198.96400407  211.90483965\n",
      "  225.68736128  240.36631313  256.          272.6505189   290.38400568\n",
      "  309.27089777  329.38621389  350.80985209  373.62690705  397.92800813\n",
      "  423.8096793   451.37472256  480.73262626  512.          545.30103779\n",
      "  580.76801136  618.54179554  658.77242778  701.61970418  747.25381411\n",
      "  795.85601627  847.6193586   902.74944512  961.46525252 1024.        ]\n"
     ]
    },
    {
     "data": {
      "image/png": "[encoded data removed]",
      "text/plain": [
       "<Figure size 576x432 with 1 Axes>"
      ]
     },
     "metadata": {
      "needs_background": "light"
     },
     "output_type": "display_data"
    }
   ],
   "source": [
    "# logspace() 메소드는 로그 스케일로 지정된 범위(start부터 stop 사이)에서 num개만큼 균등한 간격으로 데이터를 생성하고\n",
    "# 배열을 만든다.\n",
    "# logspace(start, end, num[, base]) # base를 생략하면 10이 기본값으로 사용된다.\n",
    "a = np.logspace(1, 10, 100, base=2)\n",
    "pprint(a)\n",
    "\n",
    "plt.figure(figsize=(8,6))\n",
    "plt.plot(a, 'rs')\n",
    "plt.show()"
   ]
  },
  {
   "cell_type": "markdown",
   "id": "5ae0ce74",
   "metadata": {},
   "source": [
    "난수 기반 배열 생성  \n",
    "\n",
    "numpy는 난수 발생 및 배열을 생성하는 random이라는 모듈을 제공하고 다음과 같은 메소드를 사용할 수 있다.  \n",
    "normal(), randn(), rand(), randint(), random()"
   ]
  },
  {
   "cell_type": "code",
   "execution_count": 47,
   "id": "d7e6761e",
   "metadata": {},
   "outputs": [
    {
     "name": "stdout",
     "output_type": "stream",
     "text": [
      "type: <class 'numpy.ndarray'>\n",
      "shape: (10000,), dimension: 1, dtype: float64\n",
      "numpy 배열의 데이터\n",
      "[-1.07712803  0.55499972 -0.6517354  ... -1.05149434  1.1677715\n",
      " -0.35452117]\n"
     ]
    },
    {
     "data": {
      "image/png": "[encoded data removed]",
      "text/plain": [
       "<Figure size 576x432 with 1 Axes>"
      ]
     },
     "metadata": {
      "needs_background": "light"
     },
     "output_type": "display_data"
    }
   ],
   "source": [
    "# noraml() 메소드는 정규 분포를 따르는 난수 데이터를 생성하고 배열을 만든다.\n",
    "# 난수는 매번 실행할 때마다 바뀐다.\n",
    "# normal(평균, 표준편차, 난수의 개수)\n",
    "a = np.random.normal(0, 1, 10000) \n",
    "pprint(a)\n",
    "\n",
    "plt.figure(figsize=(8,6))\n",
    "plt.hist(a, bins=100) # bins 옵션으로 히스토그램 막대(구간)의 개수를 지정할 수 있다.\n",
    "plt.show()"
   ]
  },
  {
   "cell_type": "code",
   "execution_count": 49,
   "id": "6324ea36",
   "metadata": {},
   "outputs": [
    {
     "name": "stdout",
     "output_type": "stream",
     "text": [
      "type: <class 'numpy.ndarray'>\n",
      "shape: (10,), dimension: 1, dtype: float64\n",
      "numpy 배열의 데이터\n",
      "[-0.26438301 -1.61461297  0.0036616  -0.46102157  0.3348305  -1.59223247\n",
      " -0.16266651 -0.64382158 -0.59420244  0.09746295]\n"
     ]
    },
    {
     "data": {
      "image/png": "[encoded data removed]",
      "text/plain": [
       "<Figure size 576x432 with 1 Axes>"
      ]
     },
     "metadata": {
      "needs_background": "light"
     },
     "output_type": "display_data"
    }
   ],
   "source": [
    "# randn() 메소드는 표준 정규 분포(평균이 0, 표준편차 1)를 따르는 난수 데이터를 생성하고 배열을 만든다.\n",
    "# randn(난수의 개수)\n",
    "a = np.random.randn(10) \n",
    "pprint(a)\n",
    "\n",
    "plt.figure(figsize=(8,6))\n",
    "plt.hist(a)\n",
    "plt.show()"
   ]
  },
  {
   "cell_type": "code",
   "execution_count": 51,
   "id": "17b6402e",
   "metadata": {},
   "outputs": [
    {
     "name": "stdout",
     "output_type": "stream",
     "text": [
      "type: <class 'numpy.ndarray'>\n",
      "shape: (10000,), dimension: 1, dtype: float64\n",
      "numpy 배열의 데이터\n",
      "[-0.28837833 -1.02774184  0.13333571 ...  0.43307721 -0.79451525\n",
      " -0.18170946]\n"
     ]
    },
    {
     "data": {
      "image/png": "[encoded data removed]",
      "text/plain": [
       "<Figure size 576x432 with 1 Axes>"
      ]
     },
     "metadata": {
      "needs_background": "light"
     },
     "output_type": "display_data"
    }
   ],
   "source": [
    "a = np.random.randn(10000) \n",
    "pprint(a)\n",
    "\n",
    "plt.figure(figsize=(8,6))\n",
    "plt.hist(a, bins=100)\n",
    "plt.show()"
   ]
  },
  {
   "cell_type": "code",
   "execution_count": 58,
   "id": "e494442d",
   "metadata": {},
   "outputs": [
    {
     "name": "stdout",
     "output_type": "stream",
     "text": [
      "type: <class 'numpy.ndarray'>\n",
      "shape: (10,), dimension: 1, dtype: float64\n",
      "numpy 배열의 데이터\n",
      "[0.81543008 0.51704839 0.02331963 0.39989613 0.95079875 0.26975507\n",
      " 0.48344076 0.16424358 0.02201043 0.19127708]\n"
     ]
    },
    {
     "data": {
      "image/png": "[encoded data removed]",
      "text/plain": [
       "<Figure size 576x432 with 1 Axes>"
      ]
     },
     "metadata": {
      "needs_background": "light"
     },
     "output_type": "display_data"
    }
   ],
   "source": [
    "# rand() 메소드는 0 ~ 1 사이의 균등 분포를 따르는 난수 데이터를 생성하고 배열을 만든다.\n",
    "# rand(난수의 개수)\n",
    "a = np.random.rand(10) \n",
    "pprint(a)\n",
    "\n",
    "plt.figure(figsize=(8,6))\n",
    "plt.hist(a)\n",
    "plt.show()"
   ]
  },
  {
   "cell_type": "code",
   "execution_count": 57,
   "id": "5bb445d5",
   "metadata": {},
   "outputs": [
    {
     "name": "stdout",
     "output_type": "stream",
     "text": [
      "type: <class 'numpy.ndarray'>\n",
      "shape: (100000,), dimension: 1, dtype: float64\n",
      "numpy 배열의 데이터\n",
      "[0.30948545 0.13802105 0.3691554  ... 0.17579353 0.50580015 0.92804945]\n"
     ]
    },
    {
     "data": {
      "image/png": "[encoded data removed]",
      "text/plain": [
       "<Figure size 576x432 with 1 Axes>"
      ]
     },
     "metadata": {
      "needs_background": "light"
     },
     "output_type": "display_data"
    }
   ],
   "source": [
    "a = np.random.rand(100000) \n",
    "pprint(a)\n",
    "\n",
    "plt.figure(figsize=(8,6))\n",
    "plt.hist(a, bins=100)\n",
    "plt.show()"
   ]
  },
  {
   "cell_type": "code",
   "execution_count": 60,
   "id": "a36d7bcb",
   "metadata": {},
   "outputs": [
    {
     "name": "stdout",
     "output_type": "stream",
     "text": [
      "type: <class 'numpy.ndarray'>\n",
      "shape: (3, 4), dimension: 2, dtype: float64\n",
      "numpy 배열의 데이터\n",
      "[[0.16102756 0.04559798 0.85904001 0.81590511]\n",
      " [0.00148852 0.1324262  0.25300319 0.83663167]\n",
      " [0.51300789 0.9693812  0.22792753 0.6143313 ]]\n"
     ]
    }
   ],
   "source": [
    "a = np.random.rand(3,4)\n",
    "pprint(a)"
   ]
  },
  {
   "cell_type": "code",
   "execution_count": 67,
   "id": "4c5350fa",
   "metadata": {},
   "outputs": [
    {
     "name": "stdout",
     "output_type": "stream",
     "text": [
      "type: <class 'numpy.ndarray'>\n",
      "shape: (6,), dimension: 1, dtype: int32\n",
      "numpy 배열의 데이터\n",
      "[27 34  8  4 36 22]\n"
     ]
    }
   ],
   "source": [
    "# randint() 메소드는 지정된 크기(low부터 high 미만)만큼의 범위에서 정수로 난수를 생성하고 배열을 만든다.\n",
    "# rand(low, high, 난수의 개수)\n",
    "a = np.random.randint(1, 46, 6)\n",
    "pprint(a)"
   ]
  },
  {
   "cell_type": "code",
   "execution_count": 70,
   "id": "d258cc04",
   "metadata": {},
   "outputs": [
    {
     "data": {
      "image/png": "[encoded data removed]",
      "text/plain": [
       "<Figure size 576x432 with 1 Axes>"
      ]
     },
     "metadata": {
      "needs_background": "light"
     },
     "output_type": "display_data"
    }
   ],
   "source": [
    "# -100 ~ 100 사이의 난수를 발생시킨다.\n",
    "a = np.random.randint(-100, 100, 100000)\n",
    "plt.figure(figsize=(8,6))\n",
    "plt.hist(a, bins=100)\n",
    "plt.show()"
   ]
  },
  {
   "cell_type": "code",
   "execution_count": 71,
   "id": "6dbd6431",
   "metadata": {},
   "outputs": [
    {
     "name": "stdout",
     "output_type": "stream",
     "text": [
      "type: <class 'numpy.ndarray'>\n",
      "shape: (3, 4), dimension: 2, dtype: int32\n",
      "numpy 배열의 데이터\n",
      "[[-5 -4  6 -7]\n",
      " [-1  9 -6 -8]\n",
      " [ 6 -8  5  5]]\n"
     ]
    }
   ],
   "source": [
    "a = np.random.randint(-10, 10, (3, 4))\n",
    "pprint(a)"
   ]
  },
  {
   "cell_type": "code",
   "execution_count": 73,
   "id": "627687c4",
   "metadata": {},
   "outputs": [
    {
     "name": "stdout",
     "output_type": "stream",
     "text": [
      "type: <class 'numpy.ndarray'>\n",
      "shape: (10,), dimension: 1, dtype: float64\n",
      "numpy 배열의 데이터\n",
      "[0.40021321 0.53573799 0.45973313 0.15005516 0.50099637 0.63099216\n",
      " 0.28374846 0.76870698 0.16898971 0.53653706]\n"
     ]
    }
   ],
   "source": [
    "# random() 메소드는 0 ~ 1 사이의 균등 분포에서 난수로 데이터를 생성하고 배열을 만든다.\n",
    "# random(난수의 개수)\n",
    "\n",
    "a = np.random.random(10)\n",
    "pprint(a)"
   ]
  },
  {
   "cell_type": "code",
   "execution_count": 75,
   "id": "72749174",
   "metadata": {},
   "outputs": [
    {
     "data": {
      "image/png": "[encoded data removed]",
      "text/plain": [
       "<Figure size 576x432 with 1 Axes>"
      ]
     },
     "metadata": {
      "needs_background": "light"
     },
     "output_type": "display_data"
    }
   ],
   "source": [
    "a = np.random.random(100000)\n",
    "plt.figure(figsize=(8,6))\n",
    "plt.hist(a, bins=100)\n",
    "plt.show()"
   ]
  },
  {
   "cell_type": "code",
   "execution_count": 77,
   "id": "cbb180e0",
   "metadata": {},
   "outputs": [
    {
     "name": "stdout",
     "output_type": "stream",
     "text": [
      "type: <class 'numpy.ndarray'>\n",
      "shape: (3, 4), dimension: 2, dtype: float64\n",
      "numpy 배열의 데이터\n",
      "[[0.84003685 0.11017649 0.69440538 0.68484375]\n",
      " [0.06722105 0.08267085 0.95871522 0.73582506]\n",
      " [0.4336649  0.42669506 0.42629492 0.99704154]]\n"
     ]
    }
   ],
   "source": [
    "a = np.random.random((3, 4))\n",
    "pprint(a)"
   ]
  },
  {
   "cell_type": "markdown",
   "id": "d7cfa0ec",
   "metadata": {},
   "source": [
    "약속된 난수  \n",
    "\n",
    "무작위 수를 발생시키는 난수 발생 메소드는 특정 시작 숫자로부터 난수처럼 보이는 수열을 만드는 알고리즘의 결과물이다.  \n",
    "따라서 시작점을 설정하면 난수 발행을 재연할 수 있다. => 매번 같은 배열의 난수가 발생되게 할 수 있다."
   ]
  },
  {
   "cell_type": "code",
   "execution_count": 94,
   "id": "79fee90b",
   "metadata": {},
   "outputs": [
    {
     "name": "stdout",
     "output_type": "stream",
     "text": [
      "[[0.54340494 0.27836939 0.42451759]\n",
      " [0.84477613 0.00471886 0.12156912]]\n",
      "[[0.67074908 0.82585276 0.13670659]\n",
      " [0.57509333 0.89132195 0.20920212]]\n",
      "[[0 9 6]\n",
      " [2 4 1]]\n"
     ]
    }
   ],
   "source": [
    "# seed() 메소드로 매번 같은 배열의 난수를 얻을 수 있다.\n",
    "np.random.seed(100)\n",
    "print(np.random.rand(2, 3))\n",
    "print(np.random.random((2, 3)))\n",
    "print(np.random.randint(0, 10, (2, 3)))"
   ]
  },
  {
   "cell_type": "markdown",
   "id": "a09bdf9a",
   "metadata": {},
   "source": [
    "배열의 상태 검사"
   ]
  },
  {
   "cell_type": "code",
   "execution_count": null,
   "id": "622c2974",
   "metadata": {},
   "outputs": [],
   "source": [
    "# numpy는 배열의 상태를 검사하는 다음과 같은 방법을 제공한다.\n",
    "# 배열 속성 검사 항목    배열 속성 확인 방법    예시                  결과\n",
    "# 배열 shape             numpy배열.shape        arr.shape          (5, 2, 3)\n",
    "# 배열 길이              len(numpy배열)         len(arr)               5\n",
    "# 배열 차원              numpy배열.ndim         arr.ndim               3\n",
    "# 배열 요소 개수         numpy배열.size         arr.size              30\n",
    "# 배열 타입              numpy배열.dtype        arr.dtype           dtype('float64')\n",
    "# 배열 타입 이름         numpy배열.dtype.name   arr.dtype.name      float64\n",
    "# 배열 타입 변환         numpy배열.astype()     arr.astype(np.int)   "
   ]
  },
  {
   "cell_type": "code",
   "execution_count": 95,
   "id": "4d9769c7",
   "metadata": {},
   "outputs": [
    {
     "name": "stdout",
     "output_type": "stream",
     "text": [
      "type: <class 'numpy.ndarray'>\n",
      "shape: (2, 3, 6), dimension: 3, dtype: float64\n",
      "numpy 배열의 데이터\n",
      "[[[0.07898787 0.31135313 0.63238359 0.69935892 0.64196495 0.92002378]\n",
      "  [0.29887635 0.56874553 0.17862432 0.5325737  0.64669147 0.14206538]\n",
      "  [0.58138896 0.47918994 0.38641911 0.44046495 0.40475733 0.44225404]]\n",
      "\n",
      " [[0.03012328 0.77600531 0.55095838 0.3810734  0.52926578 0.9568769 ]\n",
      "  [0.17582131 0.11830284 0.86294567 0.07486688 0.82509486 0.83613181]\n",
      "  [0.07539491 0.01140079 0.04842057 0.35712271 0.66569338 0.01138961]]]\n"
     ]
    }
   ],
   "source": [
    "arr = np.random.random((2, 3, 6))\n",
    "pprint(arr)"
   ]
  },
  {
   "cell_type": "markdown",
   "id": "24adeb44",
   "metadata": {},
   "source": [
    "numpy 배열 객체는 다음과 같은 방법으로 속성을 확인할 수 있다."
   ]
  },
  {
   "cell_type": "code",
   "execution_count": 96,
   "id": "af9593f8",
   "metadata": {},
   "outputs": [
    {
     "name": "stdout",
     "output_type": "stream",
     "text": [
      "배열의 타입: <class 'numpy.ndarray'>\n"
     ]
    }
   ],
   "source": [
    "print('배열의 타입: {}'.format(type(arr)))"
   ]
  },
  {
   "cell_type": "code",
   "execution_count": 98,
   "id": "2ccfa583",
   "metadata": {},
   "outputs": [
    {
     "name": "stdout",
     "output_type": "stream",
     "text": [
      "배열의 shape: (2, 3, 6)\n"
     ]
    }
   ],
   "source": [
    "print('배열의 shape: {}'.format(arr.shape))"
   ]
  },
  {
   "cell_type": "code",
   "execution_count": 101,
   "id": "68fec551",
   "metadata": {},
   "outputs": [
    {
     "name": "stdout",
     "output_type": "stream",
     "text": [
      "배열의 길이(면): 2\n",
      "배열의 길이(행): 3\n",
      "배열의 길이(열): 6\n"
     ]
    }
   ],
   "source": [
    "print('배열의 길이(면): {}'.format(len(arr)))\n",
    "print('배열의 길이(행): {}'.format(len(arr[0])))\n",
    "print('배열의 길이(열): {}'.format(len(arr[0][0])))"
   ]
  },
  {
   "cell_type": "code",
   "execution_count": 102,
   "id": "783fe48d",
   "metadata": {},
   "outputs": [
    {
     "name": "stdout",
     "output_type": "stream",
     "text": [
      "배열의 차원: 3\n"
     ]
    }
   ],
   "source": [
    "print('배열의 차원: {}'.format(arr.ndim))"
   ]
  },
  {
   "cell_type": "code",
   "execution_count": 103,
   "id": "42ac8d5a",
   "metadata": {},
   "outputs": [
    {
     "name": "stdout",
     "output_type": "stream",
     "text": [
      "배열의 요소의 개수: 36\n"
     ]
    }
   ],
   "source": [
    "print('배열의 요소의 개수: {}'.format(arr.size))"
   ]
  },
  {
   "cell_type": "code",
   "execution_count": 105,
   "id": "d582e1b0",
   "metadata": {},
   "outputs": [
    {
     "name": "stdout",
     "output_type": "stream",
     "text": [
      "배열의 데이터 타입: float64\n",
      "배열의 데이터 타입 이름: float64\n"
     ]
    }
   ],
   "source": [
    "print('배열의 데이터 타입: {}'.format(arr.dtype))\n",
    "print('배열의 데이터 타입 이름: {}'.format(arr.dtype.name))"
   ]
  },
  {
   "cell_type": "code",
   "execution_count": 108,
   "id": "d8bf9c04",
   "metadata": {},
   "outputs": [
    {
     "name": "stdout",
     "output_type": "stream",
     "text": [
      "[[[0 0 0 0 0 0]\n",
      "  [0 0 0 0 0 0]\n",
      "  [0 0 0 0 0 0]]\n",
      "\n",
      " [[0 0 0 0 0 0]\n",
      "  [0 0 0 0 0 0]\n",
      "  [0 0 0 0 0 0]]]\n",
      "[[[0.07898787 0.31135313 0.63238359 0.69935892 0.64196495 0.92002378]\n",
      "  [0.29887635 0.56874553 0.17862432 0.5325737  0.64669147 0.14206538]\n",
      "  [0.58138896 0.47918994 0.38641911 0.44046495 0.40475733 0.44225404]]\n",
      "\n",
      " [[0.03012328 0.77600531 0.55095838 0.3810734  0.52926578 0.9568769 ]\n",
      "  [0.17582131 0.11830284 0.86294567 0.07486688 0.82509486 0.83613181]\n",
      "  [0.07539491 0.01140079 0.04842057 0.35712271 0.66569338 0.01138961]]]\n",
      "--------------------------------------------------------------------------------\n",
      "[[[0 0 0 0 0 0]\n",
      "  [0 0 0 0 0 0]\n",
      "  [0 0 0 0 0 0]]\n",
      "\n",
      " [[0 0 0 0 0 0]\n",
      "  [0 0 0 0 0 0]\n",
      "  [0 0 0 0 0 0]]]\n"
     ]
    }
   ],
   "source": [
    "# 배열 요소를 정수(int)로 변환한다.\n",
    "print(arr.astype(np.int))\n",
    "print(arr)\n",
    "print('-' * 80)\n",
    "\n",
    "arr = arr.astype(np.int)\n",
    "print(arr)"
   ]
  },
  {
   "cell_type": "code",
   "execution_count": null,
   "id": "a32751cc",
   "metadata": {},
   "outputs": [],
   "source": []
  },
  {
   "cell_type": "code",
   "execution_count": null,
   "id": "b44a9575",
   "metadata": {},
   "outputs": [],
   "source": []
  },
  {
   "cell_type": "code",
   "execution_count": null,
   "id": "d4d2c417",
   "metadata": {},
   "outputs": [],
   "source": []
  },
  {
   "cell_type": "code",
   "execution_count": null,
   "id": "576d5a8e",
   "metadata": {},
   "outputs": [],
   "source": []
  }
 ],
 "metadata": {
  "kernelspec": {
   "display_name": "Python 3",
   "language": "python",
   "name": "python3"
  },
  "language_info": {
   "codemirror_mode": {
    "name": "ipython",
    "version": 3
   },
   "file_extension": ".py",
   "mimetype": "text/x-python",
   "name": "python",
   "nbconvert_exporter": "python",
   "pygments_lexer": "ipython3",
   "version": "3.6.8"
  }
 },
 "nbformat": 4,
 "nbformat_minor": 5
}
