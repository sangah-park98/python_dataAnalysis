{
 "cells": [
  {
   "cell_type": "code",
   "execution_count": null,
   "id": "adc258a9",
   "metadata": {},
   "outputs": [],
   "source": [
    "import warnings\n",
    "warnings.filterwarnings(action='ignore')\n",
    "%config Computer.use_jedi = False\n",
    "import numpy as np\n",
    "import pandas as pd\n",
    "import matplotlib.pyplot as plt\n",
    "import matplotlib as mpl\n",
    "mpl.rcParams['axes.unicode_minus'] = False\n",
    "plt.rcParams['font.family'] = 'NanumGothicCoding'\n",
    "plt.rcParams['font.size'] = 15\n",
    "import seaborn as sns\n",
    "from plotnine import *\n",
    "import missingno as msno\n",
    "import folium"
   ]
  },
  {
   "cell_type": "markdown",
   "id": "85232da1",
   "metadata": {},
   "source": [
    "전국도시공원정보표준데이터\n"
   ]
  },
  {
   "cell_type": "markdown",
   "id": "ac62ceda",
   "metadata": {},
   "source": [
    "다운받은 데이터를 로드하고 관찰한다."
   ]
  },
  {
   "cell_type": "code",
   "execution_count": null,
   "id": "ee2bb464",
   "metadata": {},
   "outputs": [],
   "source": [
    "# ANSI 파일일 경우 한글이 안 읽히기 때문에 encoding 써주어야 한다. or 다른 이름 저장(UTF-8)\n",
    "park_202308 = pd.read_csv('./data/park_202308.csv', encoding='cp949')\n",
    "park_202308"
   ]
  },
  {
   "cell_type": "code",
   "execution_count": null,
   "id": "d6744306",
   "metadata": {},
   "outputs": [],
   "source": [
    "park_202308.info"
   ]
  },
  {
   "cell_type": "code",
   "execution_count": null,
   "id": "6ff91bca",
   "metadata": {},
   "outputs": [],
   "source": [
    "park_202308.isnull().sum()"
   ]
  },
  {
   "cell_type": "code",
   "execution_count": null,
   "id": "f1738570",
   "metadata": {
    "scrolled": true
   },
   "outputs": [],
   "source": [
    "msno.matrix(park_202308)\n",
    "plt.show()"
   ]
  },
  {
   "cell_type": "code",
   "execution_count": null,
   "id": "cb5e4f7b",
   "metadata": {},
   "outputs": [],
   "source": [
    "park_202308.columns"
   ]
  },
  {
   "cell_type": "code",
   "execution_count": null,
   "id": "9579ab65",
   "metadata": {},
   "outputs": [],
   "source": [
    "# drop() 메소드로 불필요한 컬럼을 제거한다.\n",
    "park_202308.drop(columns=['공원보유시설(운동시설)', '공원보유시설(유희시설)', '공원보유시설(편익시설)', '공원보유시설(교양시설)',\n",
    "       '공원보유시설(기타시설)', '지정고시일', '관리기관명'], inplace=True)\n",
    "park_202308"
   ]
  },
  {
   "cell_type": "code",
   "execution_count": null,
   "id": "47ca7e75",
   "metadata": {},
   "outputs": [],
   "source": [
    "(\n",
    "    ggplot(park_202308, aes(x='경도', y='위도'))\n",
    "        + geom_point()\n",
    "        + theme(text=element_text(family='NanumGothicCoding'), figure_size=(12, 8))\n",
    ")"
   ]
  },
  {
   "cell_type": "code",
   "execution_count": null,
   "id": "945b4a72",
   "metadata": {},
   "outputs": [],
   "source": [
    "park_202308.plot.scatter(x='경도', y='위도', grid=True, figsize=(12, 8))\n",
    "plt.show()"
   ]
  },
  {
   "cell_type": "markdown",
   "id": "0bd47f08",
   "metadata": {},
   "source": [
    "주소 전처리 => 도로명 주소가 NaN이면 지번 주소로 채운다."
   ]
  },
  {
   "cell_type": "code",
   "execution_count": null,
   "id": "9b5677e6",
   "metadata": {},
   "outputs": [],
   "source": [
    "# 도로명 주소가 NaN인 데이터의 개수 => 지번 주소만 입력된 데이터의 개수\n",
    "# 도로명 주소만 입력되고 지번 주소가 입력되지 않은 데이터는 도로명 주소 제도가 실행된 후 조성된 공원이다.\n",
    "park_202308.소재지도로명주소.isnull().sum()"
   ]
  },
  {
   "cell_type": "code",
   "execution_count": null,
   "id": "14909fd0",
   "metadata": {},
   "outputs": [],
   "source": [
    "# 도로명 주소는 입력되지 않고 지번 주소만 입력된 데이터\n",
    "# 불린 인덱싱 작업시 and 조건이나 or 조건이 사용되면 그 조건에 참여하는 데이터에 관계연산자($, |)가 사용되면 연산식 전체를 괄호로 묶어준다.\n",
    "# park_202308[(park_202308.소재지도로명주소.isnull() == True) & (park_202308.소재지지번주소.notnull() == True)]\n",
    "# and, or 연산에 참여하는 데이터 자체가 논리값이면 괄호로 묶지 않아도 된다.\n",
    "park_202308[park_202308.소재지도로명주소.isnull() & park_202308.소재지지번주소.notnull()]"
   ]
  },
  {
   "cell_type": "code",
   "execution_count": null,
   "id": "7b6c8599",
   "metadata": {},
   "outputs": [],
   "source": [
    "# 지번 주소가 NaN인 데이터의 개수 => 도로명 주소만 입력된 데이터의 개수\n",
    "park_202308.소재지지번주소.isnull().sum()"
   ]
  },
  {
   "cell_type": "code",
   "execution_count": null,
   "id": "93c1ff7e",
   "metadata": {},
   "outputs": [],
   "source": [
    "# 도로명 주소는 입력되고 지번 주소만 입력되지 않은 데이터\n",
    "park_202308[park_202308.소재지지번주소.isnull() & park_202308.소재지도로명주소.notnull()]"
   ]
  },
  {
   "cell_type": "code",
   "execution_count": null,
   "id": "00bb1015",
   "metadata": {},
   "outputs": [],
   "source": [
    "# 도로명 주소와 지번 주소가 모두 입력된 데이터\n",
    "park_202308[park_202308.소재지지번주소.notnull() & park_202308.소재지도로명주소.notnull()]"
   ]
  },
  {
   "cell_type": "code",
   "execution_count": null,
   "id": "3cdae1a2",
   "metadata": {},
   "outputs": [],
   "source": [
    "# 도로명 주소와 지번 주소가 모두 입력되지 않은 데이터\n",
    "park_202308[park_202308.소재지지번주소.isnull() & park_202308.소재지도로명주소.isnull()]"
   ]
  },
  {
   "cell_type": "code",
   "execution_count": null,
   "id": "fc6f833d",
   "metadata": {
    "scrolled": true
   },
   "outputs": [],
   "source": [
    "# 도로명 주소에 입력된 '-'을(경상북도 칠곡군) 누락값으로 변경한다.\n",
    "park_202308[park_202308.소재지도로명주소 == '-']"
   ]
  },
  {
   "cell_type": "code",
   "execution_count": null,
   "id": "b17a5efe",
   "metadata": {},
   "outputs": [],
   "source": [
    "park_202308.loc[park_202308.소재지도로명주소 == '-', '소재지도로명주소'] = np.NaN # 여기서 칠곡군의 '-' 부분을 NaN으로 바꾸고"
   ]
  },
  {
   "cell_type": "code",
   "execution_count": null,
   "id": "4223170b",
   "metadata": {},
   "outputs": [],
   "source": [
    "park_202308[park_202308.소재지도로명주소 == '-'] # 다시 검색해보면 없어짐."
   ]
  },
  {
   "cell_type": "code",
   "execution_count": null,
   "id": "9bd4377c",
   "metadata": {
    "scrolled": true
   },
   "outputs": [],
   "source": [
    "park_202308[park_202308.제공기관명 == '경상북도 칠곡군']"
   ]
  },
  {
   "cell_type": "code",
   "execution_count": null,
   "id": "863f5406",
   "metadata": {
    "scrolled": true
   },
   "outputs": [],
   "source": [
    "# 도로명 주소가 NaN인 데이터를 지번 주소로 채운다.\n",
    "park_202308.소재지도로명주소.fillna(park_202308.소재지지번주소, inplace=True)\n",
    "park_202308.소재지도로명주소.isnull().sum() # 소재지도로명주소의 null의 개수를 센다."
   ]
  },
  {
   "cell_type": "code",
   "execution_count": null,
   "id": "e66506ac",
   "metadata": {
    "scrolled": true
   },
   "outputs": [],
   "source": [
    "park_202308[park_202308.제공기관코드 == '5220000']"
   ]
  },
  {
   "cell_type": "markdown",
   "id": "0acdf9e2",
   "metadata": {},
   "source": [
    "CircleMarker를 표시하기 위해 '공원면적' 열에 적당한 수식을 실행해서 '공원면적비율' 열을 만든다.  "
   ]
  },
  {
   "cell_type": "code",
   "execution_count": null,
   "id": "b9d2ede9",
   "metadata": {},
   "outputs": [],
   "source": [
    "# 시리즈에 저장된 데이터가 lambda 뒤의 변수로 한 건씩 전달되고 수식을 실행한 수가 apply() 메소드에 의해 지정된 시리즈에 일괄 적용된다.\n",
    "# sqrt(x) * 0.01를 실행하여 면적의 비율을 낮출 수 있다.\n",
    "# 시리즈.apply(lambda 변수: 수식)\n",
    "park_202308['공원면적비율'] = park_202308.공원면적.apply(lambda x: np.sqrt(x) * 0.01)\n",
    "park_202308"
   ]
  },
  {
   "cell_type": "markdown",
   "id": "db2f8cea",
   "metadata": {},
   "source": [
    "도로명 주소에서 공백을 경계로 분리해서 4번째 레벨까지 추가한다."
   ]
  },
  {
   "cell_type": "code",
   "execution_count": null,
   "id": "1648f598",
   "metadata": {
    "scrolled": true
   },
   "outputs": [],
   "source": [
    "park_202308.소재지도로명주소.str.split(' ') # 여기까지는 리스트가 들어있는 시리즈 완성."
   ]
  },
  {
   "cell_type": "code",
   "execution_count": null,
   "id": "3aa3a51f",
   "metadata": {},
   "outputs": [],
   "source": [
    "# split() 메소드 실행시 expand=True 옵션을 지정하면 구분자를 경계로 분리된 결과가 데이터프레임으로 만들어진다.\n",
    "park_202308.소재지도로명주소.str.split(' ', expand=True)   # 데이터프레임 완성"
   ]
  },
  {
   "cell_type": "code",
   "execution_count": null,
   "id": "9d1f0824",
   "metadata": {},
   "outputs": [],
   "source": [
    "#  도로명 주소에서 공백으로 분리한 주소를 4번째 레벨까지 추가한다.\n",
    "park_202308['주소1'] = park_202308.소재지도로명주소.str.split(' ', expand=True)[0]\n",
    "park_202308['주소2'] = park_202308.소재지도로명주소.str.split(' ', expand=True)[1]\n",
    "park_202308['주소3'] = park_202308.소재지도로명주소.str.split(' ', expand=True)[2]\n",
    "park_202308['주소4'] = park_202308.소재지도로명주소.str.split(' ', expand=True)[3]\n",
    "park_202308    # 소재지도로명주소를 split으로 분리해서 열 추가"
   ]
  },
  {
   "cell_type": "markdown",
   "id": "82da514e",
   "metadata": {},
   "source": [
    "위도, 경도 전처리 => 대한민국 영토를 벗어난 위도, 경도와 입력되지 않은 위도, 경도를 찾아 처리한다."
   ]
  },
  {
   "cell_type": "code",
   "execution_count": null,
   "id": "58ffda13",
   "metadata": {},
   "outputs": [],
   "source": [
    "park_202308[['위도','경도']].describe()"
   ]
  },
  {
   "cell_type": "code",
   "execution_count": null,
   "id": "72802744",
   "metadata": {},
   "outputs": [],
   "source": [
    "# 위도와 경도가 대한민국 영토 범위를 벗어난 데이터를 추출한다.\n",
    "park_202308_error1 = park_202308[(park_202308.위도 < 32) | (park_202308.경도 > 132) ] # 관계연산자 쓰려면 괄호로 묶어줌.\n",
    "park_202308_error1\n",
    "# 제24호소공원: 37.37288884,126.95538786\n",
    "# 근린공원5(만수공원): 36.63146536,127.33220397"
   ]
  },
  {
   "cell_type": "code",
   "execution_count": null,
   "id": "1a00e68d",
   "metadata": {},
   "outputs": [],
   "source": [
    "# 위도와 경도가 입력되지 않은 데이터를 추출한다.\n",
    "park_202308_error2 = park_202308[park_202308.위도.isnull() | park_202308.경도.isnull()]\n",
    "park_202308_error2\n",
    "# (신청사)어린이공원 : 36.07569985,126.70329536\n",
    "# (신청사) 소공원 : 36.07577074,126.70104727"
   ]
  },
  {
   "cell_type": "code",
   "execution_count": null,
   "id": "d48015a6",
   "metadata": {},
   "outputs": [],
   "source": [
    "# 위도와 경도가 올바른 데이터만 추출한다.\n",
    "park_202308_ok = park_202308[(park_202308.위도 >= 32) & (park_202308.경도 <= 132)]\n",
    "park_202308_ok"
   ]
  },
  {
   "cell_type": "code",
   "execution_count": null,
   "id": "f9735729",
   "metadata": {
    "scrolled": true
   },
   "outputs": [],
   "source": [
    "park_202308_ok.주소1.value_counts()"
   ]
  },
  {
   "cell_type": "code",
   "execution_count": null,
   "id": "6182d48f",
   "metadata": {},
   "outputs": [],
   "source": [
    "# 주소1 컬럼이 '대전'인 데이터를 '대전광역시'로 수정한다.\n",
    "park_202308_ok.loc[park_202308_ok.주소1 =='대전', '주소1'] = '대전광역시'\n",
    "# 주소1 컬럼이 '강원도'인 데이터를 '강원특별자치도'로 수정한다.\n",
    "park_202308_ok.loc[park_202308_ok.주소1 =='강원도', '주소1'] = '강원특별자치도'"
   ]
  },
  {
   "cell_type": "code",
   "execution_count": null,
   "id": "fbebbd60",
   "metadata": {
    "scrolled": true
   },
   "outputs": [],
   "source": [
    "park_202308_ok.주소1.value_counts()"
   ]
  },
  {
   "cell_type": "markdown",
   "id": "9252df42",
   "metadata": {},
   "source": [
    "시도별 공원 데이터 시각화"
   ]
  },
  {
   "cell_type": "code",
   "execution_count": null,
   "id": "a11db9b4",
   "metadata": {},
   "outputs": [],
   "source": [
    "# ggplot으로 지도 찍기\n",
    "(\n",
    "    ggplot(park_202308_ok, aes(x='경도', y='위도', color='주소1'))\n",
    "        +geom_point()\n",
    "        +theme(text=element_text(family='NanumGothicCoding'), figure_size=(6, 8))\n",
    ")"
   ]
  },
  {
   "cell_type": "code",
   "execution_count": null,
   "id": "afaeab65",
   "metadata": {},
   "outputs": [],
   "source": [
    "# seaborn으로 지도 찍기\n",
    "plt.figure(figsize=(8, 11))\n",
    "sns.scatterplot(data=park_202308_ok, x='경도', y='위도', hue='주소1', s=15)\n",
    "plt.legend(loc=1, bbox_to_anchor=(1.4, 0.7))  # 범례위치 loc는 박스 안에서, bbox는 박스 밖으로 내보내기\n",
    "plt.show()"
   ]
  },
  {
   "cell_type": "markdown",
   "id": "eb1e8b88",
   "metadata": {},
   "source": [
    "공원 구분별 분포현황"
   ]
  },
  {
   "cell_type": "code",
   "execution_count": null,
   "id": "322b2b1c",
   "metadata": {},
   "outputs": [],
   "source": [
    "park_202308_ok.공원구분.value_counts()"
   ]
  },
  {
   "cell_type": "code",
   "execution_count": null,
   "id": "aeaf81ab",
   "metadata": {},
   "outputs": [],
   "source": [
    "# 공원구분 컬럼이 '기타공원'인 데이터를 '기타'로 수정한다.\n",
    "park_202308_ok.loc[park_202308_ok.공원구분 =='기타공원', '공원구분'] = '기타'\n",
    "park_202308_ok.공원구분.value_counts()\n",
    "# 공원구분 컬럼이 '어린인공원'인 데이터를 '어린이공원'로 수정한다.\n",
    "park_202308_ok.loc[park_202308_ok.공원구분 =='어린인공원', '공원구분'] = '어린이공원'\n",
    "park_202308_ok.공원구분.value_counts()\n",
    "# 공원구분 컬럼이 '도시자연공원구역'인 데이터를 '도시자연공원'로 수정한다.\n",
    "park_202308_ok.loc[park_202308_ok.공원구분 =='도시자연공원구역', '공원구분'] = '도시자연공원'\n",
    "park_202308_ok.공원구분.value_counts()"
   ]
  },
  {
   "cell_type": "code",
   "execution_count": null,
   "id": "bbd9b28f",
   "metadata": {},
   "outputs": [],
   "source": [
    "# ggplot으로 지도 찍기\n",
    "(\n",
    "    ggplot(park_202308_ok, aes(x='경도', y='위도', color='공원구분', size='공원면적비율'))  # size  => 범례에 동구라미로 사이즈 하나 더 생김 \n",
    "        +geom_point()\n",
    "        +theme(text=element_text(family='NanumGothicCoding'), figure_size=(6, 8))\n",
    ")"
   ]
  },
  {
   "cell_type": "code",
   "execution_count": null,
   "id": "eb5828d2",
   "metadata": {},
   "outputs": [],
   "source": [
    "# seaborn으로 지도 찍기\n",
    "plt.figure(figsize=(8, 11))\n",
    "sns.scatterplot(data=park_202308_ok, x='경도', y='위도', hue='공원구분', size='공원면적비율', sizes=(10, 300))   # size => 범례에 동구라미로 사이즈 하나 더 생김. ggplot과 같음.  sizes => 동구라미 크기의 최소최대값을 지정할 수 있다.\n",
    "plt.legend(loc=1, bbox_to_anchor=(1.4, 0.7))\n",
    "plt.show()"
   ]
  },
  {
   "cell_type": "markdown",
   "id": "2e71e17f",
   "metadata": {},
   "source": [
    "어린이공원을 제외한 공원 분포 현황"
   ]
  },
  {
   "cell_type": "code",
   "execution_count": null,
   "id": "f3d96fab",
   "metadata": {},
   "outputs": [],
   "source": [
    "(\n",
    "    ggplot(park_202308_ok[park_202308_ok.공원구분 != '어린이공원'], aes(x='경도', y='위도', color='공원구분', size='공원면적비율'))\n",
    "        +geom_point()\n",
    "        +theme(text=element_text(family='NanumGothicCoding'), figure_size=(6, 8))\n",
    ")"
   ]
  },
  {
   "cell_type": "code",
   "execution_count": null,
   "id": "a6cad8c3",
   "metadata": {},
   "outputs": [],
   "source": [
    "plt.figure(figsize=(8, 11))\n",
    "sns.scatterplot(data=park_202308_ok[park_202308_ok.공원구분 != '어린이공원'], x='경도', y='위도', hue='공원구분', size='공원면적비율', sizes=(10, 300))  \n",
    "plt.legend(loc=1, bbox_to_anchor=(1.4, 0.7))\n",
    "plt.show()"
   ]
  },
  {
   "cell_type": "markdown",
   "id": "eb5c081a",
   "metadata": {},
   "source": [
    "시도별 공원 비율"
   ]
  },
  {
   "cell_type": "code",
   "execution_count": null,
   "id": "200bbbbc",
   "metadata": {},
   "outputs": [],
   "source": [
    "# value_counts()메소드는 시도별 개수 또는 전체 개수에 대한 비율을 계산한다.\n",
    "# value_counts()메소드의 normalize 옵션의 기본값은 False이고, 개수를 계산하고 True로 지정하면 전체 개수에 대한 비율을 계산한다.\n",
    "# value_counts()메소드의 ascending 옵션의 기본값은 False이고, 내림차순으로 정렬하고 True로 지정하면 오름차순으로 정렬한다.\n",
    "# value_counts()메소드의 dropna 옵션은 기본값이 Ture이고, NaN를 무시하고 False로 변경하면 NaN을 포함시켜 계산한다.\n",
    "park_sum = pd.DataFrame(park_202308_ok.주소1.value_counts())\n",
    "park_sum.head()"
   ]
  },
  {
   "cell_type": "code",
   "execution_count": null,
   "id": "c53cf46a",
   "metadata": {},
   "outputs": [],
   "source": [
    "park_per = pd.DataFrame(park_202308_ok.주소1.value_counts(normalize=True)) # True로 지정했으므로 비율\n",
    "park_per.head()"
   ]
  },
  {
   "cell_type": "code",
   "execution_count": null,
   "id": "b56a2e1d",
   "metadata": {},
   "outputs": [],
   "source": [
    "# 시도별 개수 데이터와 전체 개수에 대한 비율 데이터를 병합한다.\n",
    "# 병합하려는 데이터프레임에 병합 기준을 인덱스로 지정하려면 left_index 옵션과 right_index 옵션을 각각 True로 지정한다.\n",
    "park_sido = park_sum.merge(park_per, left_index=True, right_index=True).reset_index() # reset_index() 메소드는 인덱스를 따로 빼줌.\n",
    "# 병합된 데이터프레임의 열 이름을 변경한다.\n",
    "park_sido.columns = ['시도', '개수', '비율']\n",
    "park_sido.head()"
   ]
  },
  {
   "cell_type": "code",
   "execution_count": null,
   "id": "8095d9a2",
   "metadata": {},
   "outputs": [],
   "source": [
    "park_sum = pd.DataFrame(park_202308_ok.주소1.value_counts()).reset_index()\n",
    "park_sum.columns = ['시도', '개수']\n",
    "park_sum.head()"
   ]
  },
  {
   "cell_type": "code",
   "execution_count": null,
   "id": "a3ceae8b",
   "metadata": {},
   "outputs": [],
   "source": [
    "park_per = pd.DataFrame(park_202308_ok.주소1.value_counts(normalize=True)).reset_index()\n",
    "park_per.columns = ['시도', '비율']\n",
    "park_per.head()"
   ]
  },
  {
   "cell_type": "code",
   "execution_count": null,
   "id": "013dbed8",
   "metadata": {},
   "outputs": [],
   "source": [
    "park_sido = park_sum.merge(park_per, left_on='시도', right_on='시도')\n",
    "# 시도에 대한 내림차순으로 정렬하고 데이터프레임을 즉시 반영한다.   \n",
    "# sort_index 인덱스를 오름이나 내림으로. sort_values는 데이터를 정렬. 정렬된 결과를 볼수만 있다. 출력해서도 보려면 변수를 넣어서 만들거나 inplace=True를 지정해야함.\n",
    "# park_sido.sort_values('시도', ascending=False, inplace=True)   \n",
    "park_sido"
   ]
  },
  {
   "cell_type": "code",
   "execution_count": null,
   "id": "77867d6b",
   "metadata": {},
   "outputs": [],
   "source": [
    "(\n",
    "    ggplot(park_sido, aes(x='시도', y='개수'))\n",
    "        + geom_bar(stat='identity', position='dodge', fill='green')\n",
    "        + theme(text=element_text(family='NanumGothicCoding'), figure_size=(14,8), axis_text_x=element_text(rotation=45))\n",
    ")"
   ]
  },
  {
   "cell_type": "code",
   "execution_count": null,
   "id": "8a1a1ce1",
   "metadata": {},
   "outputs": [],
   "source": [
    "plt.figure(figsize=(20, 8))\n",
    "ax = sns.barplot(data=park_sido, x='시도', y='개수')\n",
    "ax.set_xticklabels(ax.get_xticklabels(), rotation=45)\n",
    "plt.show()"
   ]
  },
  {
   "cell_type": "code",
   "execution_count": null,
   "id": "fa6cadfe",
   "metadata": {},
   "outputs": [],
   "source": [
    "import pandas as pd\n",
    "import numpy as np\n",
    "from pandas.api.types import CategoricalDtype\n",
    "from plotnine import *\n",
    "from plotnine.data import mpg"
   ]
  },
  {
   "cell_type": "code",
   "execution_count": null,
   "id": "5de167c7",
   "metadata": {},
   "outputs": [],
   "source": [
    "(ggplot(mpg)\n",
    " + aes(x='manufacturer')\n",
    " + geom_bar(size=20)\n",
    " + coord_flip() # 세로 막대 그래프를 만든다.\n",
    " + labs(y='Count', x='Manufacturer', title='Number of Cars by Make')\n",
    ")"
   ]
  },
  {
   "cell_type": "code",
   "execution_count": null,
   "id": "f05ba776",
   "metadata": {
    "scrolled": false
   },
   "outputs": [],
   "source": [
    "park_list = park_202308_ok['주소1'].value_counts().index.tolist()\n",
    "parkList = pd.Categorical(park_202308_ok['주소1'], categories=park_list)\n",
    "park_202308_ok = park_202308_ok.assign(공원목록 = parkList)\n",
    "park_202308_ok\n",
    "\n",
    "(\n",
    "    ggplot(park_202308_ok)\n",
    "    + aes(x='공원목록')\n",
    "    + geom_bar(size=20, fill= 'pink')\n",
    "    #+ coord_flip()\n",
    "    + labs(y='공원개수', x='시도', title='시도별 공원 개수')\n",
    "    + theme(text=element_text(family='NanumGothicCoding'), figure_size=(14,8), axis_text_x=element_text(rotation=45))\n",
    ")"
   ]
  },
  {
   "cell_type": "markdown",
   "id": "b2ef50a2",
   "metadata": {},
   "source": [
    "공원 구분별 개수"
   ]
  },
  {
   "cell_type": "code",
   "execution_count": null,
   "id": "ccec4bca",
   "metadata": {},
   "outputs": [],
   "source": [
    "park_type = pd.DataFrame(park_202308_ok.공원구분.value_counts()).reset_index()\n",
    "park_type.columns = ['공원구분', '개수']\n",
    "park_type"
   ]
  },
  {
   "cell_type": "code",
   "execution_count": null,
   "id": "df1ec9ef",
   "metadata": {},
   "outputs": [],
   "source": [
    "(\n",
    "    ggplot(park_type, aes(x='공원구분', y='개수'))\n",
    "    + geom_bar(stat='identity', position='dodge', fill='green')\n",
    "    + coord_flip() # 차트의 x축 y축을 회전시킨다.\n",
    "    + labs(y='공원개수', x='시도', title='시도별 공원 개수')\n",
    "    + theme(text=element_text(family='NanumGothicCoding'), figure_size=(14, 8))\n",
    ")"
   ]
  },
  {
   "cell_type": "code",
   "execution_count": null,
   "id": "7fcbd90d",
   "metadata": {},
   "outputs": [],
   "source": [
    "plt.figure(figsize=(20, 8))\n",
    "ax = sns.barplot(data=park_type, x='공원구분', y='개수')\n",
    "ax.set_xticklabels(ax.get_xticklabels(), rotation=45)\n",
    "plt.show()"
   ]
  },
  {
   "cell_type": "markdown",
   "id": "94850360",
   "metadata": {},
   "source": [
    "경기도 공원 분포"
   ]
  },
  {
   "cell_type": "code",
   "execution_count": null,
   "id": "e44f8398",
   "metadata": {},
   "outputs": [],
   "source": [
    "gyeonggi = park_202308_ok[park_202308_ok.주소1 == '경기도']\n",
    "gyeonggi"
   ]
  },
  {
   "cell_type": "code",
   "execution_count": null,
   "id": "a98dee1c",
   "metadata": {},
   "outputs": [],
   "source": [
    "gyeonggi_type = pd.DataFrame(gyeonggi['공원구분'].value_counts()).reset_index()\n",
    "park_type.columns = ['공원구분', '개수']\n",
    "park_type"
   ]
  },
  {
   "cell_type": "code",
   "execution_count": null,
   "id": "30553422",
   "metadata": {
    "scrolled": true
   },
   "outputs": [],
   "source": [
    "gyeonggi_map = folium.Map(location=[gyeonggi.위도.mean(), gyeonggi.경도.mean()], zoom_start=10)\n",
    "for index, data in gyeonggi.iterrows():\n",
    "    parkName = folium.Popup('{}: {}'.format(data.공원명, data.소재지도로명주소), max_width=300)\n",
    "    folium.Marker(location=[data.위도, data.경도], popup=parkName).add_to(gyeonggi_map)\n",
    "gyeonggi_map"
   ]
  },
  {
   "cell_type": "markdown",
   "id": "3b152e8c",
   "metadata": {},
   "source": [
    "수원시 공원 분포"
   ]
  },
  {
   "cell_type": "code",
   "execution_count": null,
   "id": "46b48890",
   "metadata": {},
   "outputs": [],
   "source": [
    "suwon = park_202308_ok[park_202308_ok.주소2 == '수원시']\n",
    "suwon"
   ]
  },
  {
   "cell_type": "code",
   "execution_count": null,
   "id": "0bd8847a",
   "metadata": {
    "scrolled": true
   },
   "outputs": [],
   "source": [
    "suwon_map = folium.Map(location=[suwon.위도.mean(), suwon.경도.mean()], zoom_start=13)\n",
    "for index, data in gyeonggi.iterrows():\n",
    "    parkName = folium.Popup('{}: {}'.format(data.공원명, data.소재지도로명주소), max_width=300)\n",
    "    folium.Marker(location=[data.위도, data.경도], popup=parkName).add_to(suwon_map)\n",
    "suwon_map"
   ]
  },
  {
   "cell_type": "code",
   "execution_count": null,
   "id": "91ac8f33",
   "metadata": {
    "scrolled": true
   },
   "outputs": [],
   "source": [
    "suwon_map = folium.Map(location=[suwon.위도.mean(), suwon.경도.mean()], zoom_start=13)\n",
    "for index, data in gyeonggi.iterrows():\n",
    "    parkName = folium.Popup('{}: {}'.format(data.공원명, data.소재지도로명주소), max_width=300)\n",
    "    folium.CircleMarker(location=[data.위도, data.경도], popup=parkName,\n",
    "                       radius=data.공원면적비율, color='red', fill_color='white').add_to(suwon_map)\n",
    "suwon_map"
   ]
  },
  {
   "cell_type": "markdown",
   "id": "8bfd6723",
   "metadata": {},
   "source": [
    "경기도 일부 공원만 보기"
   ]
  },
  {
   "cell_type": "code",
   "execution_count": null,
   "id": "4c9d56c7",
   "metadata": {},
   "outputs": [],
   "source": [
    "import re"
   ]
  },
  {
   "cell_type": "code",
   "execution_count": null,
   "id": "99cb170f",
   "metadata": {},
   "outputs": [],
   "source": [
    "park_type = r'.*([역사|체육|수변|문화|묘지]공원).*'\n",
    "gyeonggi_sample = gyeonggi[gyeonggi.공원구분.str.match(park_type)]\n",
    "gyeonggi_sample"
   ]
  },
  {
   "cell_type": "code",
   "execution_count": null,
   "id": "7a21da0a",
   "metadata": {},
   "outputs": [],
   "source": [
    "set(gyeonggi_sample.공원구분)"
   ]
  },
  {
   "cell_type": "code",
   "execution_count": null,
   "id": "66606ab7",
   "metadata": {
    "scrolled": true
   },
   "outputs": [],
   "source": [
    "gyeonggi_sample_map = folium.Map(location=[gyeonggi_sample.위도.mean(), gyeonggi_sample.경도.mean()], zoom_start=10)\n",
    "for index, data in gyeonggi_sample.iterrows():\n",
    "    parkName = folium.Popup('{}: {}'.format(data.공원명, data.소재지도로명주소), max_width=300)\n",
    "    folium.Marker(location=[data.위도, data.경도], popup=parkName).add_to(gyeonggi_sample_map)\n",
    "gyeonggi_sample_map"
   ]
  },
  {
   "cell_type": "code",
   "execution_count": null,
   "id": "1b3661ad",
   "metadata": {
    "scrolled": true
   },
   "outputs": [],
   "source": [
    "gyeonggi_sample_map = folium.Map(location=[gyeonggi_sample.위도.mean(), gyeonggi_sample.경도.mean()], zoom_start=10)\n",
    "for index, data in gyeonggi_sample.iterrows():\n",
    "    parkName = folium.Popup('{}: {}'.format(data.공원명, data.소재지도로명주소), max_width=300)\n",
    "    folium.CircleMarker(location=[data.위도, data.경도], popup=parkName,\n",
    "                       radius=data.공원면적비율, color='red', fill_color='white').add_to(gyeonggi_sample_map)\n",
    "gyeonggi_sample_map"
   ]
  },
  {
   "cell_type": "markdown",
   "id": "6698d167",
   "metadata": {},
   "source": [
    "서울 공원 분포"
   ]
  },
  {
   "cell_type": "code",
   "execution_count": null,
   "id": "ab93d176",
   "metadata": {},
   "outputs": [],
   "source": [
    "seoul = park_202308_ok[park_202308_ok.주소1 == '서울특별시']\n",
    "seoul"
   ]
  },
  {
   "cell_type": "code",
   "execution_count": null,
   "id": "a0facfa1",
   "metadata": {},
   "outputs": [],
   "source": []
  },
  {
   "cell_type": "code",
   "execution_count": null,
   "id": "29ea9633",
   "metadata": {},
   "outputs": [],
   "source": []
  },
  {
   "cell_type": "code",
   "execution_count": null,
   "id": "bafd19ea",
   "metadata": {},
   "outputs": [],
   "source": []
  },
  {
   "cell_type": "code",
   "execution_count": null,
   "id": "ec6ec5a7",
   "metadata": {},
   "outputs": [],
   "source": []
  },
  {
   "cell_type": "code",
   "execution_count": null,
   "id": "db813ab7",
   "metadata": {},
   "outputs": [],
   "source": []
  },
  {
   "cell_type": "code",
   "execution_count": null,
   "id": "42ec357c",
   "metadata": {},
   "outputs": [],
   "source": []
  }
 ],
 "metadata": {
  "kernelspec": {
   "display_name": "Python 3",
   "language": "python",
   "name": "python3"
  },
  "language_info": {
   "codemirror_mode": {
    "name": "ipython",
    "version": 3
   },
   "file_extension": ".py",
   "mimetype": "text/x-python",
   "name": "python",
   "nbconvert_exporter": "python",
   "pygments_lexer": "ipython3",
   "version": "3.6.8"
  }
 },
 "nbformat": 4,
 "nbformat_minor": 5
}
